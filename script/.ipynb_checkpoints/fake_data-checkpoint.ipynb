{
 "cells": [
  {
   "cell_type": "markdown",
   "metadata": {},
   "source": [
    "### Fake Data\n",
    "\n",
    "\n",
    "```\n",
    "theta0\n",
    "x1 x2 x3 x4 x5 ... x100\n",
    "y1 y2 y3 y4 y5 ... y100\n",
    "u1 u2 u3 u4 u5 ... u100\n",
    "\n",
    "c0 -s0  0\n",
    "s0  c0  0\n",
    " 0   0  1\n",
    "```\n"
   ]
  },
  {
   "cell_type": "code",
   "execution_count": 2,
   "metadata": {},
   "outputs": [],
   "source": [
    "import matplotlib.pyplot as plt\n",
    "import numpy as np"
   ]
  },
  {
   "cell_type": "code",
   "execution_count": 10,
   "metadata": {},
   "outputs": [
    {
     "data": {
      "text/plain": [
       "rec.array([('2008-10-08', 330.16, 358.99, 326.11, 338.11, 11826400, 338.11),\n",
       "           ('2008-10-09', 344.52, 348.57, 321.67, 328.98,  8075000, 328.98),\n",
       "           ('2008-10-10', 313.16, 341.89, 310.3 , 332.  , 10597800, 332.  ),\n",
       "           ('2008-10-13', 355.79, 381.95, 345.75, 381.02,  8905500, 381.02),\n",
       "           ('2008-10-14', 393.53, 394.5 , 357.  , 362.71,  7784800, 362.71)],\n",
       "          dtype=[('date', '<M8[D]'), ('open', '<f8'), ('high', '<f8'), ('low', '<f8'), ('close', '<f8'), ('volume', '<i8'), ('adj_close', '<f8')])"
      ]
     },
     "execution_count": 10,
     "metadata": {},
     "output_type": "execute_result"
    }
   ],
   "source": [
    "import matplotlib.cbook as cbook\n",
    "\n",
    "# Load a numpy record array from yahoo csv data with fields date, open, close,\n",
    "# volume, adj_close from the mpl-data/example directory. The record array\n",
    "# stores the date as an np.datetime64 with a day unit ('D') in the date column.\n",
    "with cbook.get_sample_data('goog.npz') as datafile:\n",
    "    price_data = np.load(datafile)['price_data'].view(np.recarray)\n",
    "price_data = price_data[-5:]  # get the most recent 250 trading days\n",
    "price_data"
   ]
  },
  {
   "cell_type": "code",
   "execution_count": 15,
   "metadata": {},
   "outputs": [
    {
     "data": {
      "text/plain": [
       "array([ -9.13,   3.02,  49.02, -18.31])"
      ]
     },
     "execution_count": 15,
     "metadata": {},
     "output_type": "execute_result"
    }
   ],
   "source": [
    "np.diff(price_data.adj_close)"
   ]
  },
  {
   "cell_type": "code",
   "execution_count": 14,
   "metadata": {},
   "outputs": [
    {
     "data": {
      "text/plain": [
       "array([338.11, 328.98, 332.  , 381.02])"
      ]
     },
     "execution_count": 14,
     "metadata": {},
     "output_type": "execute_result"
    }
   ],
   "source": [
    "price_data.adj_close[:-1]"
   ]
  },
  {
   "cell_type": "code",
   "execution_count": 12,
   "metadata": {},
   "outputs": [
    {
     "data": {
      "text/plain": [
       "array([-0.02700305,  0.00917989,  0.1476506 , -0.04805522])"
      ]
     },
     "execution_count": 12,
     "metadata": {},
     "output_type": "execute_result"
    }
   ],
   "source": [
    "delta1 = np.diff(price_data.adj_close) / price_data.adj_close[:-1]\n",
    "delta1"
   ]
  },
  {
   "cell_type": "code",
   "execution_count": 16,
   "metadata": {},
   "outputs": [
    {
     "data": {
      "image/png": "[encoded data removed]",
      "text/plain": [
       "<Figure size 432x288 with 1 Axes>"
      ]
     },
     "metadata": {
      "needs_background": "light"
     },
     "output_type": "display_data"
    }
   ],
   "source": [
    "# Marker size in units of points^2\n",
    "volume = (15 * price_data.volume[:-2] / price_data.volume[0])**2\n",
    "close = 0.003 * price_data.close[:-2] / 0.003 * price_data.open[:-2]\n",
    "\n",
    "fig, ax = plt.subplots()\n",
    "ax.scatter(delta1[:-1], delta1[1:], c=close, s=volume, alpha=0.5)\n",
    "\n",
    "ax.set_xlabel(r'$\\Delta_i$', fontsize=15)\n",
    "ax.set_ylabel(r'$\\Delta_{i+1}$', fontsize=15)\n",
    "ax.set_title('Volume and percent change')\n",
    "\n",
    "ax.grid(True)\n",
    "fig.tight_layout()\n",
    "\n",
    "plt.show()"
   ]
  },
  {
   "cell_type": "code",
   "execution_count": null,
   "metadata": {},
   "outputs": [],
   "source": []
  }
 ],
 "metadata": {
  "kernelspec": {
   "display_name": "Python 2",
   "language": "python",
   "name": "python2"
  },
  "language_info": {
   "codemirror_mode": {
    "name": "ipython",
    "version": 2
   },
   "file_extension": ".py",
   "mimetype": "text/x-python",
   "name": "python",
   "nbconvert_exporter": "python",
   "pygments_lexer": "ipython2",
   "version": "2.7.17"
  }
 },
 "nbformat": 4,
 "nbformat_minor": 2
}
