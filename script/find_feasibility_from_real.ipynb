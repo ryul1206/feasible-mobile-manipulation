{
 "cells": [
  {
   "cell_type": "markdown",
   "metadata": {},
   "source": [
    "# Find a Feasible Mobile Manipulation (from Real Data)"
   ]
  },
  {
   "cell_type": "code",
   "execution_count": 1,
   "metadata": {},
   "outputs": [],
   "source": [
    "%matplotlib widget\n",
    "\n",
    "import numpy as np\n",
    "import feasibility_map as fmap"
   ]
  },
  {
   "cell_type": "markdown",
   "metadata": {},
   "source": [
    "## 1. Offline\n",
    "\n",
    "### 1.0. Utils"
   ]
  },
  {
   "cell_type": "markdown",
   "metadata": {},
   "source": [
    "### 1.1. Configuration\n",
    "\n",
    "1. `Rsize`: the radius of the robot-base\n",
    "2. `M`: X-Y-Cr manipulability map\n",
    "\n",
    "```python\n",
    "raw:\n",
    "    [[Cr x y manip],\n",
    "     [Cr x y manip], ...]\n",
    "layers:\n",
    "    [deg]: [[x, ...],\n",
    "            [y, ...],\n",
    "            [manip, ...]]\n",
    "```"
   ]
  },
  {
   "cell_type": "code",
   "execution_count": 2,
   "metadata": {},
   "outputs": [],
   "source": [
    "Rsize = 0.3"
   ]
  },
  {
   "cell_type": "markdown",
   "metadata": {},
   "source": [
    "- npy data\n",
    "    - Cr (radian)\n",
    "    - x (m)\n",
    "    - y (m)\n",
    "    - manip (no unit)"
   ]
  },
  {
   "cell_type": "code",
   "execution_count": 3,
   "metadata": {},
   "outputs": [
    {
     "name": "stdout",
     "output_type": "stream",
     "text": [
      "(893, 4)\n",
      "[[ 0.00000e+00  1.00000e-01 -4.40000e-01  1.51625e-02]\n",
      " [ 1.00000e+01  1.00000e-01 -4.40000e-01  1.51625e-02]\n",
      " [ 2.00000e+01  1.00000e-01 -4.40000e-01  1.51625e-02]\n",
      " ...\n",
      " [ 6.00000e+01  2.80000e-01 -8.00000e-02  8.97977e-03]\n",
      " [ 7.00000e+01  2.80000e-01 -8.00000e-02  8.97977e-03]\n",
      " [ 8.00000e+01  2.80000e-01 -8.00000e-02  8.97977e-03]]\n"
     ]
    }
   ],
   "source": [
    "# In this file, Cr is radians.\n",
    "M = np.load('real_manip.npy')\n",
    "# So, convert it to degrees.\n",
    "M[:,0] = np.round(np.degrees(M[:,0]), decimals=3)\n",
    "print(M.shape)\n",
    "print(M)"
   ]
  },
  {
   "cell_type": "markdown",
   "metadata": {},
   "source": [
    "### 1.2. Preparation\n",
    "\n",
    "1. Convert the `M` to a feasibility map `F` (helical shape).\n",
    "\n",
    "Cr, x, y, manipulability"
   ]
  },
  {
   "cell_type": "code",
   "execution_count": 4,
   "metadata": {},
   "outputs": [
    {
     "data": {
      "application/vnd.jupyter.widget-view+json": {
       "model_id": "16b680941f4540658b83266563526871",
       "version_major": 2,
       "version_minor": 0
      },
      "text/plain": [
       "Canvas(toolbar=Toolbar(toolitems=[('Home', 'Reset original view', 'home', 'home'), ('Back', 'Back to previous …"
      ]
     },
     "metadata": {},
     "output_type": "display_data"
    },
    {
     "data": {
      "application/vnd.jupyter.widget-view+json": {
       "model_id": "495f5e4cbc064412a67bceefbc023d67",
       "version_major": 2,
       "version_minor": 0
      },
      "text/plain": [
       "Canvas(toolbar=Toolbar(toolitems=[('Home', 'Reset original view', 'home', 'home'), ('Back', 'Back to previous …"
      ]
     },
     "metadata": {},
     "output_type": "display_data"
    },
    {
     "name": "stdout",
     "output_type": "stream",
     "text": [
      "(3, 99)\n",
      "(3, 99)\n",
      "(893, 4)\n"
     ]
    }
   ],
   "source": [
    "F = fmap.FeasibilityMap(M, Rsize, is_jupyter=True)"
   ]
  },
  {
   "cell_type": "markdown",
   "metadata": {},
   "source": [
    "## 2. Online"
   ]
  },
  {
   "cell_type": "markdown",
   "metadata": {},
   "source": [
    "### 2.1. Input\n",
    "\n",
    "Known\n",
    "1. `self.feasi_layers`: feasibility map\n",
    "2. `self.robot_radius`: robot base (circle radius)\n",
    "\n",
    "---\n",
    "Input\n",
    "\n",
    "1. `Pt`: Position of the target object (relative to the robot’s current pose) => `(x, y)`\n",
    "2. `Obs`: Area list of ground obstacles => `[CollisionModel, ...]`\n",
    "3. `Cr`: Constraints on the approach angle (relative to the robot heading) (-90 ~ 90) => `(min, max)`\n",
    "4. `Ct`: Constraints on the approach angle (relative to the target heading) (-180 ~ 180) => `(min, max)`"
   ]
  },
  {
   "cell_type": "code",
   "execution_count": 5,
   "metadata": {},
   "outputs": [],
   "source": [
    "from collision import CollisionBox\n",
    "\n",
    "Pt = (0.0, 0.0)\n",
    "Obs = [CollisionBox((0.2, 0.0), np.radians(0.0), 0.45, 1.0)]\n",
    "Cr = (30, 30)  # min, max\n",
    "Ct = (-180, 180) # min, max"
   ]
  },
  {
   "cell_type": "markdown",
   "metadata": {},
   "source": [
    "### 2.2. Process\n",
    "\n",
    "1. Cut the range of `Cr` from `F` and set it to `Fcut`.\n",
    "2. ~~[SKIP] Scan the maximum points for the radius and angle by each circle in `Fcut`.~~\n",
    "3. And extract only the maximum as a `Fmax`.\n",
    "4. Wipe the `Fmax` in the range of `Ct`.\n",
    "5. Remove all obstacle areas from `Fwiped` with the offset of `Rsize`."
   ]
  },
  {
   "cell_type": "code",
   "execution_count": 6,
   "metadata": {},
   "outputs": [
    {
     "name": "stdout",
     "output_type": "stream",
     "text": [
      "Cut the range of `Cr` from `Fraw` and set it to `Fcut`.\n",
      "min Cr:  30\n",
      "max Cr:  30\n"
     ]
    },
    {
     "data": {
      "application/vnd.jupyter.widget-view+json": {
       "model_id": "55e0d0b9ca514e3b8a39437c6b540384",
       "version_major": 2,
       "version_minor": 0
      },
      "text/plain": [
       "Canvas(toolbar=Toolbar(toolitems=[('Home', 'Reset original view', 'home', 'home'), ('Back', 'Back to previous …"
      ]
     },
     "metadata": {},
     "output_type": "display_data"
    },
    {
     "name": "stdout",
     "output_type": "stream",
     "text": [
      "And extract only the maximum as a `Fmax`.\n",
      "sq_sections.shape:  (23,)\n",
      "Fmax.shape:  (19, 4)\n",
      "Fmax:\n",
      " [[ 3.00000000e+01 -7.66025409e-02  6.73205107e-02  4.30307016e-02]\n",
      " [ 3.00000000e+01 -6.16025403e-02  9.33012739e-02  4.04035002e-02]\n",
      " [ 3.00000000e+01 -1.02583304e-01  8.23205113e-02  4.20637988e-02]\n",
      " [ 3.00000000e+01 -1.13564067e-01  1.23301268e-01  4.07138988e-02]\n",
      " [ 3.00000000e+01 -9.85640660e-02  1.49282038e-01  3.97801995e-02]\n",
      " [ 3.00000000e+01 -1.24544829e-01  1.64282039e-01  3.89292017e-02]\n",
      " [ 3.00000000e+01 -1.09544829e-01  1.90262794e-01  3.86510007e-02]\n",
      " [ 3.00000000e+01 -9.45448279e-02  2.16243550e-01  3.77761014e-02]\n",
      " [ 3.00000000e+01 -7.95448273e-02  2.42224321e-01  3.72181013e-02]\n",
      " [ 3.00000000e+01  4.33974601e-02  2.75166601e-01  4.08669002e-02]\n",
      " [ 3.00000000e+01  5.83974607e-02  3.01147372e-01  4.61509004e-02]\n",
      " [ 3.00000000e+01  3.24166976e-02  3.16147357e-01  4.83170003e-02]\n",
      " [ 3.00000000e+01  4.74166982e-02  3.42128128e-01  4.87559997e-02]\n",
      " [ 3.00000000e+01  2.14359351e-02  3.57128143e-01  4.78866994e-02]\n",
      " [ 3.00000000e+01  6.24166988e-02  3.68108898e-01  4.48253006e-02]\n",
      " [ 3.00000000e+01  1.03397459e-01  3.79089653e-01  4.05654013e-02]\n",
      " [ 3.00000000e+01  1.18397459e-01  4.05070424e-01  3.16077992e-02]\n",
      " [ 3.00000000e+01  9.24166963e-02  4.20070410e-01  2.40167994e-02]\n",
      " [ 3.00000000e+01  1.33397460e-01  4.31051165e-01  1.51624996e-02]]\n",
      "When Ct == 0.0 deg\n"
     ]
    },
    {
     "data": {
      "application/vnd.jupyter.widget-view+json": {
       "model_id": "2cb0ec0a43404bc1b012232787060cd9",
       "version_major": 2,
       "version_minor": 0
      },
      "text/plain": [
       "Canvas(toolbar=Toolbar(toolitems=[('Home', 'Reset original view', 'home', 'home'), ('Back', 'Back to previous …"
      ]
     },
     "metadata": {},
     "output_type": "display_data"
    },
    {
     "name": "stdout",
     "output_type": "stream",
     "text": [
      "Wipe the `Fmax` in the range of `Ct`. => `Fwiped`\n",
      "min Ct:  -180\n",
      "max Ct:  180\n",
      "Fwiped.shape:  (1652, 5)\n",
      "Interval is  0.02  [m].\n"
     ]
    },
    {
     "data": {
      "application/vnd.jupyter.widget-view+json": {
       "model_id": "82491c6b2c844002b34c35c00d053c6d",
       "version_major": 2,
       "version_minor": 0
      },
      "text/plain": [
       "Canvas(toolbar=Toolbar(toolitems=[('Home', 'Reset original view', 'home', 'home'), ('Back', 'Back to previous …"
      ]
     },
     "metadata": {},
     "output_type": "display_data"
    },
    {
     "name": "stdout",
     "output_type": "stream",
     "text": [
      "Remove all obstacle areas from `Fwiped` with the offset of `Rsize`. => `Fclean`\n",
      "Fclean.shape:  (1652, 5)\n",
      "Fclean.shape:  (164, 5)\n"
     ]
    },
    {
     "data": {
      "application/vnd.jupyter.widget-view+json": {
       "model_id": "8903019572364b43b89d039ac0d085f3",
       "version_major": 2,
       "version_minor": 0
      },
      "text/plain": [
       "Canvas(toolbar=Toolbar(toolitems=[('Home', 'Reset original view', 'home', 'home'), ('Back', 'Back to previous …"
      ]
     },
     "metadata": {},
     "output_type": "display_data"
    }
   ],
   "source": [
    "F.calc(Pt, Obs, Cr, Ct, (0.05, 0.5, 0.02))"
   ]
  },
  {
   "cell_type": "markdown",
   "metadata": {},
   "source": [
    "### 2.3. Output\n",
    "\n",
    "1. Candidate poses (sorted in descending order of manipulability)"
   ]
  },
  {
   "cell_type": "code",
   "execution_count": 7,
   "metadata": {},
   "outputs": [
    {
     "name": "stdout",
     "output_type": "stream",
     "text": [
      "Fclean[:10]:\n",
      " [[ 7.96239403e+01  3.00000000e+01 -3.27993108e-01  1.08261351e-01\n",
      "   4.87559997e-02]\n",
      " [ 8.29416045e+01  3.00000000e+01 -3.33708680e-01  8.90983517e-02\n",
      "   4.87559997e-02]\n",
      " [ 8.62592687e+01  3.00000000e+01 -3.38305674e-01  6.96366992e-02\n",
      "   4.87559997e-02]\n",
      " [ 8.95769328e+01  3.00000000e+01 -3.41768683e-01  4.99416276e-02\n",
      "   4.87559997e-02]\n",
      " [ 9.28945970e+01  3.00000000e+01 -3.44086099e-01  3.00791538e-02\n",
      "   4.87559997e-02]\n",
      " [ 9.62122612e+01  3.00000000e+01 -3.45250154e-01  1.01158561e-02\n",
      "   4.87559997e-02]\n",
      " [ 9.95299254e+01  3.00000000e+01 -3.45256945e-01 -9.88134952e-03\n",
      "   4.87559997e-02]\n",
      " [ 1.02847590e+02  3.00000000e+01 -3.44106450e-01 -2.98454333e-02\n",
      "   4.87559997e-02]\n",
      " [ 1.06165254e+02  3.00000000e+01 -3.41802526e-01 -4.97094765e-02\n",
      "   4.87559997e-02]\n",
      " [ 1.09482918e+02  3.00000000e+01 -3.38352896e-01 -6.94068958e-02\n",
      "   4.87559997e-02]]\n",
      "Fclean[:10] (sorted):\n",
      " [[ 7.96239403e+01  3.00000000e+01 -3.27993108e-01  1.08261351e-01\n",
      "   4.87559997e-02]\n",
      " [ 1.16118246e+02  3.00000000e+01 -3.28066567e-01 -1.08038543e-01\n",
      "   4.87559997e-02]\n",
      " [ 1.12800582e+02  3.00000000e+01 -3.33769121e-01 -8.88716662e-02\n",
      "   4.87559997e-02]\n",
      " [ 1.06165254e+02  3.00000000e+01 -3.41802526e-01 -4.97094765e-02\n",
      "   4.87559997e-02]\n",
      " [ 1.02847590e+02  3.00000000e+01 -3.44106450e-01 -2.98454333e-02\n",
      "   4.87559997e-02]\n",
      " [ 9.95299254e+01  3.00000000e+01 -3.45256945e-01 -9.88134952e-03\n",
      "   4.87559997e-02]\n",
      " [ 1.09482918e+02  3.00000000e+01 -3.38352896e-01 -6.94068958e-02\n",
      "   4.87559997e-02]\n",
      " [ 9.28945970e+01  3.00000000e+01 -3.44086099e-01  3.00791538e-02\n",
      "   4.87559997e-02]\n",
      " [ 8.95769328e+01  3.00000000e+01 -3.41768683e-01  4.99416276e-02\n",
      "   4.87559997e-02]\n",
      " [ 8.62592687e+01  3.00000000e+01 -3.38305674e-01  6.96366992e-02\n",
      "   4.87559997e-02]]\n"
     ]
    },
    {
     "data": {
      "application/vnd.jupyter.widget-view+json": {
       "model_id": "3b5b49c666e74d889b10c4f06b9b416d",
       "version_major": 2,
       "version_minor": 0
      },
      "text/plain": [
       "Canvas(toolbar=Toolbar(toolitems=[('Home', 'Reset original view', 'home', 'home'), ('Back', 'Back to previous …"
      ]
     },
     "metadata": {},
     "output_type": "display_data"
    }
   ],
   "source": [
    "candidates = F.get_candidates()"
   ]
  },
  {
   "cell_type": "code",
   "execution_count": null,
   "metadata": {},
   "outputs": [],
   "source": []
  },
  {
   "cell_type": "code",
   "execution_count": null,
   "metadata": {},
   "outputs": [],
   "source": []
  }
 ],
 "metadata": {
  "kernelspec": {
   "display_name": "Python 2",
   "language": "python",
   "name": "python2"
  },
  "language_info": {
   "codemirror_mode": {
    "name": "ipython",
    "version": 3
   },
   "file_extension": ".py",
   "mimetype": "text/x-python",
   "name": "python",
   "nbconvert_exporter": "python",
   "pygments_lexer": "ipython3",
   "version": "3.6.9"
  }
 },
 "nbformat": 4,
 "nbformat_minor": 4
}
