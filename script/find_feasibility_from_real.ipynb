{
 "cells": [
  {
   "cell_type": "markdown",
   "metadata": {},
   "source": [
    "# Find a Feasible Mobile Manipulation (from Real Data)"
   ]
  },
  {
   "cell_type": "code",
   "execution_count": 1,
   "metadata": {},
   "outputs": [],
   "source": [
    "%matplotlib widget\n",
    "\n",
    "import numpy as np\n",
    "import feasibility_map as fmap"
   ]
  },
  {
   "cell_type": "markdown",
   "metadata": {},
   "source": [
    "## 1. Offline\n",
    "\n",
    "### 1.0. Utils"
   ]
  },
  {
   "cell_type": "markdown",
   "metadata": {},
   "source": [
    "### 1.1. Configuration\n",
    "\n",
    "1. `Rsize`: the radius of the robot-base\n",
    "2. `M`: X-Y-Cr manipulability map\n",
    "\n",
    "```python\n",
    "raw:\n",
    "    [[Cr x y manip],\n",
    "     [Cr x y manip], ...]\n",
    "layers:\n",
    "    [deg]: [[x, ...],\n",
    "            [y, ...],\n",
    "            [manip, ...]]\n",
    "```"
   ]
  },
  {
   "cell_type": "code",
   "execution_count": 2,
   "metadata": {},
   "outputs": [],
   "source": [
    "Rsize = 0.3"
   ]
  },
  {
   "cell_type": "markdown",
   "metadata": {},
   "source": [
    "- npy data\n",
    "    - Cr (radian)\n",
    "    - x (m)\n",
    "    - y (m)\n",
    "    - manip (no unit)"
   ]
  },
  {
   "cell_type": "code",
   "execution_count": 3,
   "metadata": {},
   "outputs": [
    {
     "name": "stdout",
     "output_type": "stream",
     "text": [
      "(893, 4)\n",
      "[[ 0.00000e+00  1.00000e-01 -4.40000e-01  1.51625e-02]\n",
      " [ 1.00000e+01  1.00000e-01 -4.40000e-01  1.51625e-02]\n",
      " [ 2.00000e+01  1.00000e-01 -4.40000e-01  1.51625e-02]\n",
      " ...\n",
      " [ 6.00000e+01  2.80000e-01 -8.00000e-02  8.97977e-03]\n",
      " [ 7.00000e+01  2.80000e-01 -8.00000e-02  8.97977e-03]\n",
      " [ 8.00000e+01  2.80000e-01 -8.00000e-02  8.97977e-03]]\n"
     ]
    }
   ],
   "source": [
    "# In this file, Cr is radians.\n",
    "M = np.load('../config/robocare_right_arm_sample.npy')\n",
    "# So, convert it to degrees.\n",
    "M[:,0] = np.round(np.degrees(M[:,0]), decimals=3)\n",
    "print(M.shape)\n",
    "print(M)"
   ]
  },
  {
   "cell_type": "markdown",
   "metadata": {},
   "source": [
    "### 1.2. Preparation\n",
    "\n",
    "1. Convert the `M` to a feasibility map `F` (helical shape).\n",
    "\n",
    "Cr, x, y, manipulability"
   ]
  },
  {
   "cell_type": "code",
   "execution_count": 4,
   "metadata": {},
   "outputs": [
    {
     "data": {
      "application/vnd.jupyter.widget-view+json": {
       "model_id": "079b966499f548b0b0970a3da736539a",
       "version_major": 2,
       "version_minor": 0
      },
      "text/plain": [
       "Canvas(toolbar=Toolbar(toolitems=[('Home', 'Reset original view', 'home', 'home'), ('Back', 'Back to previous …"
      ]
     },
     "metadata": {},
     "output_type": "display_data"
    },
    {
     "data": {
      "application/vnd.jupyter.widget-view+json": {
       "model_id": "db621db3d58445f1be8839500ced0c0d",
       "version_major": 2,
       "version_minor": 0
      },
      "text/plain": [
       "Canvas(toolbar=Toolbar(toolitems=[('Home', 'Reset original view', 'home', 'home'), ('Back', 'Back to previous …"
      ]
     },
     "metadata": {},
     "output_type": "display_data"
    },
    {
     "name": "stdout",
     "output_type": "stream",
     "text": [
      "(3, 99)\n",
      "(3, 99)\n",
      "(893, 4)\n"
     ]
    }
   ],
   "source": [
    "F = fmap.FeasibilityMap(M, Rsize, is_jupyter=True)"
   ]
  },
  {
   "cell_type": "markdown",
   "metadata": {},
   "source": [
    "## 2. Online"
   ]
  },
  {
   "cell_type": "markdown",
   "metadata": {},
   "source": [
    "### 2.1. Input\n",
    "\n",
    "Known\n",
    "1. `self.feasi_layers`: feasibility map\n",
    "2. `self.robot_radius`: robot base (circle radius)\n",
    "\n",
    "---\n",
    "Input\n",
    "\n",
    "1. `Pt`: Position of the target object (relative to the robot’s current pose) => `(x, y)`\n",
    "2. `Obs`: Area list of ground obstacles => `[CollisionModel, ...]`\n",
    "3. `Cr`: Constraints on the approach angle (relative to the robot heading) (-90 ~ 90) => `(min, max)`\n",
    "4. `Ct`: Constraints on the approach angle (relative to the target heading) (-180 ~ 180) => `(min, max)`"
   ]
  },
  {
   "cell_type": "code",
   "execution_count": 5,
   "metadata": {},
   "outputs": [],
   "source": [
    "from collision import CollisionBox\n",
    "\n",
    "Pt = (0.0, 0.0)\n",
    "Obs = [CollisionBox((0.2, 0.0), np.radians(0.0), 0.45, 1.0)]\n",
    "# Cr = (30, 30)  # min, max\n",
    "Cr = (0, 0)\n",
    "Ct = (-np.radians(180), np.radians(180)) # min, max"
   ]
  },
  {
   "cell_type": "markdown",
   "metadata": {},
   "source": [
    "### 2.2. Process\n",
    "\n",
    "1. Cut the range of `Cr` from `F` and set it to `Fcut`.\n",
    "2. ~~[SKIP] Scan the maximum points for the radius and angle by each circle in `Fcut`.~~\n",
    "3. And extract only the maximum as a `Fmax`.\n",
    "4. Wipe the `Fmax` in the range of `Ct`.\n",
    "5. Remove all obstacle areas from `Fwiped` with the offset of `Rsize`."
   ]
  },
  {
   "cell_type": "code",
   "execution_count": 6,
   "metadata": {},
   "outputs": [
    {
     "name": "stdout",
     "output_type": "stream",
     "text": [
      "Cut the range of `Cr` from `Fraw` and set it to `Fcut`.\n",
      "min Cr:  0.0\n",
      "max Cr:  0.0\n"
     ]
    },
    {
     "data": {
      "application/vnd.jupyter.widget-view+json": {
       "model_id": "5af86f52ed2348da88ba513bf26aa3af",
       "version_major": 2,
       "version_minor": 0
      },
      "text/plain": [
       "Canvas(toolbar=Toolbar(toolitems=[('Home', 'Reset original view', 'home', 'home'), ('Back', 'Back to previous …"
      ]
     },
     "metadata": {},
     "output_type": "display_data"
    },
    {
     "name": "stdout",
     "output_type": "stream",
     "text": [
      "And extract only the maximum as a `Fmax`.\n",
      "sq_sections.shape:  (23,)\n",
      "Fmax.shape:  (19, 4)\n",
      "Fmax:\n",
      " [[ 0.        -0.1        0.02       0.0430307]\n",
      " [ 0.        -0.1        0.05       0.0404036]\n",
      " [ 0.        -0.13       0.02       0.0420638]\n",
      " [ 0.        -0.16       0.05       0.0407139]\n",
      " [ 0.        -0.16       0.08       0.0397802]\n",
      " [ 0.        -0.19       0.08       0.0389292]\n",
      " [ 0.        -0.19       0.11       0.038651 ]\n",
      " [ 0.        -0.19       0.14       0.0377761]\n",
      " [ 0.        -0.19       0.17       0.0372181]\n",
      " [ 0.        -0.1        0.26       0.0408668]\n",
      " [ 0.        -0.1        0.29       0.0461509]\n",
      " [ 0.        -0.13       0.29       0.048317 ]\n",
      " [ 0.        -0.13       0.32       0.048756 ]\n",
      " [ 0.        -0.16       0.32       0.0478867]\n",
      " [ 0.        -0.13       0.35       0.0448253]\n",
      " [ 0.        -0.1        0.38       0.0405654]\n",
      " [ 0.        -0.1        0.41       0.0316079]\n",
      " [ 0.        -0.13       0.41       0.0240168]\n",
      " [ 0.        -0.1        0.44       0.0151625]]\n",
      "When Ct == 0.0 deg\n"
     ]
    },
    {
     "data": {
      "application/vnd.jupyter.widget-view+json": {
       "model_id": "d3888cd97dea4c72b04549bdfb369601",
       "version_major": 2,
       "version_minor": 0
      },
      "text/plain": [
       "Canvas(toolbar=Toolbar(toolitems=[('Home', 'Reset original view', 'home', 'home'), ('Back', 'Back to previous …"
      ]
     },
     "metadata": {},
     "output_type": "display_data"
    },
    {
     "name": "stdout",
     "output_type": "stream",
     "text": [
      "Wipe the `Fmax` in the range of `Ct`. => `Fwiped`\n",
      "min Ct:  -180.0\n",
      "max Ct:  180.0\n",
      "Fwiped.shape:  (1652, 5)\n",
      "Interval is  0.02  [m].\n"
     ]
    },
    {
     "data": {
      "application/vnd.jupyter.widget-view+json": {
       "model_id": "9265320e15334ff3acc41eed4dfbce01",
       "version_major": 2,
       "version_minor": 0
      },
      "text/plain": [
       "Canvas(toolbar=Toolbar(toolitems=[('Home', 'Reset original view', 'home', 'home'), ('Back', 'Back to previous …"
      ]
     },
     "metadata": {},
     "output_type": "display_data"
    },
    {
     "name": "stdout",
     "output_type": "stream",
     "text": [
      "Remove all obstacle areas from `Fwiped` with the offset of `Rsize`. => `Fclean`\n",
      "Fclean.shape:  (1652, 5)\n",
      "Fclean.shape:  (163, 5)\n"
     ]
    },
    {
     "data": {
      "application/vnd.jupyter.widget-view+json": {
       "model_id": "fbcdfe1d7dc54c5a9aa3e4151a104f56",
       "version_major": 2,
       "version_minor": 0
      },
      "text/plain": [
       "Canvas(toolbar=Toolbar(toolitems=[('Home', 'Reset original view', 'home', 'home'), ('Back', 'Back to previous …"
      ]
     },
     "metadata": {},
     "output_type": "display_data"
    }
   ],
   "source": [
    "F.calc(Pt, Obs, Cr, Ct, (0.05, 0.5, 0.02))"
   ]
  },
  {
   "cell_type": "markdown",
   "metadata": {},
   "source": [
    "### 2.3. Output\n",
    "\n",
    "1. Candidate poses (sorted in descending order of manipulability)"
   ]
  },
  {
   "cell_type": "code",
   "execution_count": 7,
   "metadata": {},
   "outputs": [
    {
     "name": "stdout",
     "output_type": "stream",
     "text": [
      "Fclean[:10]:\n",
      " [[ 4.97649627e+01  0.00000000e+00 -3.28258572e-01  1.07453731e-01\n",
      "   4.87559997e-02]\n",
      " [ 5.30826269e+01  0.00000000e+00 -3.33926960e-01  8.82767228e-02\n",
      "   4.87559997e-02]\n",
      " [ 5.64002911e+01  0.00000000e+00 -3.38476039e-01  6.88038151e-02\n",
      "   4.87559997e-02]\n",
      " [ 5.97179552e+01  0.00000000e+00 -3.41890562e-01  4.91002800e-02\n",
      "   4.87559997e-02]\n",
      " [ 6.30356194e+01  0.00000000e+00 -3.44159084e-01  2.92321630e-02\n",
      "   4.87559997e-02]\n",
      " [ 6.63532836e+01  0.00000000e+00 -3.45273999e-01  9.26606108e-03\n",
      "   4.87559997e-02]\n",
      " [ 6.96709478e+01  0.00000000e+00 -3.45231571e-01 -1.07311003e-02\n",
      "   4.87559997e-02]\n",
      " [ 7.29886119e+01  0.00000000e+00 -3.44031942e-01 -3.06922915e-02\n",
      "   4.87559997e-02]\n",
      " [ 7.63062761e+01  0.00000000e+00 -3.41679134e-01 -5.05506034e-02\n",
      "   4.87559997e-02]\n",
      " [ 7.96239403e+01  0.00000000e+00 -3.38181033e-01 -7.02394721e-02\n",
      "   4.87559997e-02]]\n",
      "Fclean[:10] (sorted):\n",
      " [[ 4.97649627e+01  0.00000000e+00 -3.28258572e-01  1.07453731e-01\n",
      "   4.87559997e-02]\n",
      " [ 8.62592687e+01  0.00000000e+00 -3.27799651e-01 -1.08845684e-01\n",
      "   4.87559997e-02]\n",
      " [ 8.29416045e+01  0.00000000e+00 -3.33549363e-01 -8.96929011e-02\n",
      "   4.87559997e-02]\n",
      " [ 7.63062761e+01  0.00000000e+00 -3.41679134e-01 -5.05506034e-02\n",
      "   4.87559997e-02]\n",
      " [ 7.29886119e+01  0.00000000e+00 -3.44031942e-01 -3.06922915e-02\n",
      "   4.87559997e-02]\n",
      " [ 6.96709478e+01  0.00000000e+00 -3.45231571e-01 -1.07311003e-02\n",
      "   4.87559997e-02]\n",
      " [ 7.96239403e+01  0.00000000e+00 -3.38181033e-01 -7.02394721e-02\n",
      "   4.87559997e-02]\n",
      " [ 6.30356194e+01  0.00000000e+00 -3.44159084e-01  2.92321630e-02\n",
      "   4.87559997e-02]\n",
      " [ 5.97179552e+01  0.00000000e+00 -3.41890562e-01  4.91002800e-02\n",
      "   4.87559997e-02]\n",
      " [ 5.64002911e+01  0.00000000e+00 -3.38476039e-01  6.88038151e-02\n",
      "   4.87559997e-02]]\n"
     ]
    },
    {
     "data": {
      "application/vnd.jupyter.widget-view+json": {
       "model_id": "cbbc497bc17e4a818a203c09cf98177c",
       "version_major": 2,
       "version_minor": 0
      },
      "text/plain": [
       "Canvas(toolbar=Toolbar(toolitems=[('Home', 'Reset original view', 'home', 'home'), ('Back', 'Back to previous …"
      ]
     },
     "metadata": {},
     "output_type": "display_data"
    }
   ],
   "source": [
    "candidates = F.get_candidates()"
   ]
  },
  {
   "cell_type": "code",
   "execution_count": null,
   "metadata": {},
   "outputs": [],
   "source": []
  },
  {
   "cell_type": "code",
   "execution_count": null,
   "metadata": {},
   "outputs": [],
   "source": []
  }
 ],
 "metadata": {
  "kernelspec": {
   "display_name": "Python 2",
   "language": "python",
   "name": "python2"
  },
  "language_info": {
   "codemirror_mode": {
    "name": "ipython",
    "version": 3
   },
   "file_extension": ".py",
   "mimetype": "text/x-python",
   "name": "python",
   "nbconvert_exporter": "python",
   "pygments_lexer": "ipython3",
   "version": "3.6.9"
  }
 },
 "nbformat": 4,
 "nbformat_minor": 4
}
