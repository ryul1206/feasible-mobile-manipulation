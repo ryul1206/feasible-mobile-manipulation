{
 "cells": [
  {
   "cell_type": "markdown",
   "metadata": {},
   "source": [
    "# Find a Feasible Mobile Manipulation (from Real Data)"
   ]
  },
  {
   "cell_type": "code",
   "execution_count": 1,
   "metadata": {},
   "outputs": [],
   "source": [
    "%matplotlib widget\n",
    "\n",
    "import numpy as np\n",
    "import feasibility_map as fmap"
   ]
  },
  {
   "cell_type": "markdown",
   "metadata": {},
   "source": [
    "## 1. Offline\n",
    "\n",
    "### 1.0. Utils"
   ]
  },
  {
   "cell_type": "markdown",
   "metadata": {},
   "source": [
    "### 1.1. Configuration\n",
    "\n",
    "1. `Rsize`: the radius of the robot-base\n",
    "2. `M`: X-Y-Cr manipulability map\n",
    "\n",
    "```python\n",
    "raw:\n",
    "    [[Cr x y manip],\n",
    "     [Cr x y manip], ...]\n",
    "layers:\n",
    "    [deg]: [[x, ...],\n",
    "            [y, ...],\n",
    "            [manip, ...]]\n",
    "```"
   ]
  },
  {
   "cell_type": "code",
   "execution_count": 2,
   "metadata": {},
   "outputs": [],
   "source": [
    "Rsize = 0.3"
   ]
  },
  {
   "cell_type": "markdown",
   "metadata": {},
   "source": [
    "- npy data\n",
    "    - Cr (radian)\n",
    "    - x (m)\n",
    "    - y (m)\n",
    "    - manip (no unit)"
   ]
  },
  {
   "cell_type": "code",
   "execution_count": 9,
   "metadata": {},
   "outputs": [
    {
     "name": "stdout",
     "output_type": "stream",
     "text": [
      "(2795, 4)\n",
      "[[-6.00000000e+01  3.09000000e-01 -3.00000000e-01  6.91546727e-02]\n",
      " [-4.50000000e+01  3.09000000e-01 -3.00000000e-01  7.27504883e-02]\n",
      " [-3.00000000e+01  3.09000000e-01 -3.00000000e-01  7.75980486e-02]\n",
      " ...\n",
      " [ 7.50000000e+01  1.59000000e-01  5.00000000e-02  5.84465707e-02]\n",
      " [ 9.00000000e+01  1.59000000e-01  5.00000000e-02  6.61140770e-02]\n",
      " [ 9.00000000e+01  1.59000000e-01  1.00000000e-01  5.97837489e-02]]\n"
     ]
    }
   ],
   "source": [
    "# In this file, Cr is radians.\n",
    "M = np.load('../config/socialrobot_right_z75_2021-01-25.npy')\n",
    "# So, convert it to degrees.\n",
    "M[:,0] = np.round(np.degrees(M[:,0]), decimals=3)\n",
    "print(M.shape)\n",
    "print(M)"
   ]
  },
  {
   "cell_type": "markdown",
   "metadata": {},
   "source": [
    "### 1.2. Preparation\n",
    "\n",
    "1. Convert the `M` to a feasibility map `F` (helical shape).\n",
    "\n",
    "Cr, x, y, manipulability"
   ]
  },
  {
   "cell_type": "code",
   "execution_count": 10,
   "metadata": {},
   "outputs": [
    {
     "data": {
      "application/vnd.jupyter.widget-view+json": {
       "model_id": "2eaf8674da9044d390d4e557ddf05652",
       "version_major": 2,
       "version_minor": 0
      },
      "text/plain": [
       "Canvas(toolbar=Toolbar(toolitems=[('Home', 'Reset original view', 'home', 'home'), ('Back', 'Back to previous …"
      ]
     },
     "metadata": {},
     "output_type": "display_data"
    },
    {
     "data": {
      "application/vnd.jupyter.widget-view+json": {
       "model_id": "f9862b4176c545328e8905c056baf01c",
       "version_major": 2,
       "version_minor": 0
      },
      "text/plain": [
       "Canvas(toolbar=Toolbar(toolitems=[('Home', 'Reset original view', 'home', 'home'), ('Back', 'Back to previous …"
      ]
     },
     "metadata": {},
     "output_type": "display_data"
    },
    {
     "name": "stdout",
     "output_type": "stream",
     "text": [
      "(3, 230)\n",
      "(3, 230)\n",
      "(2795, 4)\n"
     ]
    }
   ],
   "source": [
    "F = fmap.FeasibilityMap(M, Rsize, is_jupyter=True)"
   ]
  },
  {
   "cell_type": "markdown",
   "metadata": {},
   "source": [
    "## 2. Online"
   ]
  },
  {
   "cell_type": "markdown",
   "metadata": {},
   "source": [
    "### 2.1. Input\n",
    "\n",
    "Known\n",
    "1. `self.feasi_layers`: feasibility map\n",
    "2. `self.robot_radius`: robot base (circle radius)\n",
    "\n",
    "---\n",
    "Input\n",
    "\n",
    "1. `Pt`: Position of the target object (relative to the robot’s current pose) => `(x, y)`\n",
    "2. `Obs`: Area list of ground obstacles => `[CollisionModel, ...]`\n",
    "3. `Cr`: Constraints on the approach angle (relative to the robot heading) (-90 ~ 90) => `(min, max)`\n",
    "4. `Ct`: Constraints on the approach angle (relative to the target heading) (-180 ~ 180) => `(min, max)`"
   ]
  },
  {
   "cell_type": "code",
   "execution_count": 11,
   "metadata": {},
   "outputs": [],
   "source": [
    "from collision import CollisionBox\n",
    "\n",
    "Pt = (0.0, 0.0)\n",
    "Obs = [CollisionBox((0.2, 0.0), np.radians(0.0), 0.45, 1.0)]\n",
    "# Cr = (30, 30)  # min, max\n",
    "Cr = (0, 0)\n",
    "Ct = (-np.radians(180), np.radians(180)) # min, max"
   ]
  },
  {
   "cell_type": "markdown",
   "metadata": {},
   "source": [
    "### 2.2. Process\n",
    "\n",
    "1. Cut the range of `Cr` from `F` and set it to `Fcut`.\n",
    "2. ~~[SKIP] Scan the maximum points for the radius and angle by each circle in `Fcut`.~~\n",
    "3. And extract only the maximum as a `Fmax`.\n",
    "4. Wipe the `Fmax` in the range of `Ct`.\n",
    "5. Remove all obstacle areas from `Fwiped` with the offset of `Rsize`."
   ]
  },
  {
   "cell_type": "code",
   "execution_count": 12,
   "metadata": {},
   "outputs": [
    {
     "name": "stdout",
     "output_type": "stream",
     "text": [
      "Cut the range of `Cr` from `Fraw` and set it to `Fcut`.\n",
      "min Cr:  0.0\n",
      "max Cr:  0.0\n"
     ]
    },
    {
     "data": {
      "application/vnd.jupyter.widget-view+json": {
       "model_id": "8210f91869e74a6996f9e84673ab13d6",
       "version_major": 2,
       "version_minor": 0
      },
      "text/plain": [
       "Canvas(toolbar=Toolbar(toolitems=[('Home', 'Reset original view', 'home', 'home'), ('Back', 'Back to previous …"
      ]
     },
     "metadata": {},
     "output_type": "display_data"
    },
    {
     "name": "stdout",
     "output_type": "stream",
     "text": [
      "And extract only the maximum as a `Fmax`.\n",
      "sq_sections.shape:  (23,)\n",
      "Fmax.shape:  (15, 4)\n",
      "Fmax:\n",
      " [[ 0.         -0.159       0.1         0.05407761]\n",
      " [ 0.         -0.159       0.15        0.06065376]\n",
      " [ 0.         -0.209       0.1         0.05544608]\n",
      " [ 0.         -0.159       0.2         0.07012463]\n",
      " [ 0.         -0.109       0.25        0.07543658]\n",
      " [ 0.         -0.059       0.3         0.08000569]\n",
      " [ 0.         -0.109       0.3         0.0827823 ]\n",
      " [ 0.         -0.159       0.3         0.0826152 ]\n",
      " [ 0.         -0.259       0.25        0.09652822]\n",
      " [ 0.         -0.359       0.1         0.0900866 ]\n",
      " [ 0.         -0.209       0.35        0.09063355]\n",
      " [ 0.         -0.359       0.2         0.09336948]\n",
      " [ 0.         -0.359       0.25        0.09761725]\n",
      " [ 0.         -0.209       0.4         0.09458029]\n",
      " [ 0.         -0.459       0.15        0.08853702]]\n",
      "When Ct == 0.0 deg\n"
     ]
    },
    {
     "data": {
      "application/vnd.jupyter.widget-view+json": {
       "model_id": "6cb88a84f9ee41eea0790506a262c889",
       "version_major": 2,
       "version_minor": 0
      },
      "text/plain": [
       "Canvas(toolbar=Toolbar(toolitems=[('Home', 'Reset original view', 'home', 'home'), ('Back', 'Back to previous …"
      ]
     },
     "metadata": {},
     "output_type": "display_data"
    },
    {
     "name": "stdout",
     "output_type": "stream",
     "text": [
      "Wipe the `Fmax` in the range of `Ct`. => `Fwiped`\n",
      "min Ct:  -180.0\n",
      "max Ct:  180.0\n",
      "Fwiped.shape:  (1582, 5)\n",
      "Interval is  0.02  [m].\n"
     ]
    },
    {
     "data": {
      "application/vnd.jupyter.widget-view+json": {
       "model_id": "4566dd9927cf4e1e9445d6e28e7f1132",
       "version_major": 2,
       "version_minor": 0
      },
      "text/plain": [
       "Canvas(toolbar=Toolbar(toolitems=[('Home', 'Reset original view', 'home', 'home'), ('Back', 'Back to previous …"
      ]
     },
     "metadata": {},
     "output_type": "display_data"
    },
    {
     "name": "stdout",
     "output_type": "stream",
     "text": [
      "Remove all obstacle areas from `Fwiped` with the offset of `Rsize`. => `Fclean`\n",
      "Fclean.shape:  (1582, 5)\n",
      "Fclean.shape:  (205, 5)\n"
     ]
    },
    {
     "data": {
      "application/vnd.jupyter.widget-view+json": {
       "model_id": "c271516433934274842001e550811df8",
       "version_major": 2,
       "version_minor": 0
      },
      "text/plain": [
       "Canvas(toolbar=Toolbar(toolitems=[('Home', 'Reset original view', 'home', 'home'), ('Back', 'Back to previous …"
      ]
     },
     "metadata": {},
     "output_type": "display_data"
    }
   ],
   "source": [
    "F.calc(Pt, Obs, Cr, Ct, (0.05, 0.5, 0.02))"
   ]
  },
  {
   "cell_type": "markdown",
   "metadata": {},
   "source": [
    "### 2.3. Output\n",
    "\n",
    "1. Candidate poses (sorted in descending order of manipulability)"
   ]
  },
  {
   "cell_type": "code",
   "execution_count": 8,
   "metadata": {},
   "outputs": [
    {
     "name": "stdout",
     "output_type": "stream",
     "text": [
      "num:  1\n",
      "Fclean[:1]:\n",
      " [[ 4.97649627e+01  0.00000000e+00 -3.28258572e-01  1.07453731e-01\n",
      "   4.87559997e-02]]\n",
      "Fclean[:1] (sorted):\n",
      " [[ 4.97649627e+01  0.00000000e+00 -3.28258572e-01  1.07453731e-01\n",
      "   4.87559997e-02]]\n"
     ]
    },
    {
     "data": {
      "application/vnd.jupyter.widget-view+json": {
       "model_id": "51834fac2af84227a2d70d01edf4e93a",
       "version_major": 2,
       "version_minor": 0
      },
      "text/plain": [
       "Canvas(toolbar=Toolbar(toolitems=[('Home', 'Reset original view', 'home', 'home'), ('Back', 'Back to previous …"
      ]
     },
     "metadata": {},
     "output_type": "display_data"
    }
   ],
   "source": [
    "candidates = F.get_candidates()"
   ]
  },
  {
   "cell_type": "code",
   "execution_count": null,
   "metadata": {},
   "outputs": [],
   "source": []
  },
  {
   "cell_type": "code",
   "execution_count": null,
   "metadata": {},
   "outputs": [],
   "source": []
  }
 ],
 "metadata": {
  "kernelspec": {
   "display_name": "Python 2",
   "language": "python",
   "name": "python2"
  },
  "language_info": {
   "codemirror_mode": {
    "name": "ipython",
    "version": 3
   },
   "file_extension": ".py",
   "mimetype": "text/x-python",
   "name": "python",
   "nbconvert_exporter": "python",
   "pygments_lexer": "ipython3",
   "version": "3.6.9"
  }
 },
 "nbformat": 4,
 "nbformat_minor": 4
}
