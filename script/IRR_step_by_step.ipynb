{
 "cells": [
  {
   "cell_type": "markdown",
   "metadata": {},
   "source": [
    "# Inverse Reachability Repositioning Step by Step"
   ]
  },
  {
   "cell_type": "markdown",
   "metadata": {},
   "source": [
    "## 1. Offline\n",
    "\n",
    "### IRM Data\n",
    "\n",
    "- Sample: ./config/robocare_right_irm.npy\n",
    "  - This sample has 7899 points.\n",
    "  - The supported z of target is {0.7, 0.75, 0.8}.\n",
    "\n",
    "| Column Index | Name                     | Unit       | Remark           |\n",
    "| ------------ | ------------------------ | ---------- | ---------------- |\n",
    "| 0            | Mobile Base x            | meter      | For query output |\n",
    "| 1            | Mobile Base y            | meter      | For query output |\n",
    "| 2            | Target Object z (height) | meter      | For query input  |\n",
    "| 3            | EEP x                    | meter      | For IK solver    |\n",
    "| 4            | EEP y                    | meter      | For IK solver    |\n",
    "| 5            | EEP z                    | meter      | For IK solver    |\n",
    "| 6            | EE Roll                  | **DEGREE** |                  |\n",
    "| 7            | EE Pitch                 | **DEGREE** |                  |\n",
    "| 8            | EE Yaw                   | **DEGREE** | Cr               |\n",
    "| 9            | Manipulability           | -          |                  |\n",
    "| 10           | Joint_0 value            | radian     |                  |\n",
    "| 11           | Joint_1 value            | radian     |                  |\n",
    "| >=12         | Joint_2... values        | radian     |                  |\n"
   ]
  },
  {
   "cell_type": "markdown",
   "metadata": {},
   "source": [
    "### Configuration"
   ]
  },
  {
   "cell_type": "code",
   "execution_count": 11,
   "metadata": {},
   "outputs": [],
   "source": [
    "base_radius = 0.3\n",
    "irm_path = \"../config/robocare_right_irm.npy\""
   ]
  },
  {
   "cell_type": "markdown",
   "metadata": {},
   "source": [
    "### Initialization"
   ]
  },
  {
   "cell_type": "code",
   "execution_count": 12,
   "metadata": {},
   "outputs": [],
   "source": [
    "%matplotlib widget\n",
    "\n",
    "import numpy as np\n",
    "import irm\n",
    "\n",
    "reposition = irm.InverseReachabilityMap(irm_path, base_radius, is_jupyter=True)"
   ]
  },
  {
   "cell_type": "code",
   "execution_count": 13,
   "metadata": {},
   "outputs": [
    {
     "name": "stdout",
     "output_type": "stream",
     "text": [
      "< Inverse Reachability Solver >\n",
      "Configuration:\n",
      "    Base radius: 0.300000 m\n",
      "    IRM data: ../config/robocare_right_irm.npy\n",
      "       Shape: (7899, 18)\n",
      "\n"
     ]
    }
   ],
   "source": [
    "print(reposition)"
   ]
  },
  {
   "cell_type": "markdown",
   "metadata": {},
   "source": [
    "## 2. Online\n",
    "\n",
    "### 2.1. Input\n",
    "\n",
    "Known (from offline)\n",
    "1. `irm`: Inverse reachability map of the robot arm\n",
    "2. `base_radius`: The radius of the robot base (base is assumed to be circular)\n",
    "\n",
    "---\n",
    "\n",
    "Input\n",
    "\n",
    "1. `Pt`: Position of the target object (relative to the robot’s current pose) => `(x, y)`\n",
    "2. `Obs`: Area list of ground obstacles => `[CollisionModel, ...]`\n",
    "3. `Cr`: Constraints on the approach angle (relative to the robot heading) (-pi ~ pi) => `(min, max)`\n",
    "4. `Ct`: Constraints on the approach angle (relative to the target heading) (-pi ~ pi) => `(min, max)`"
   ]
  },
  {
   "cell_type": "code",
   "execution_count": 4,
   "metadata": {},
   "outputs": [],
   "source": [
    "from collision import CollisionBox\n",
    "\n",
    "Pt = (0.3, 0.1)\n",
    "Obs = [CollisionBox((0.1, 0.0), np.radians(30.0), 0.5, 0.3)]\n",
    "Cr = (np.radians(0), np.radians(30.1))  # min, max\n",
    "Ct = (np.radians(-180), np.radians(180)) # min, max"
   ]
  },
  {
   "cell_type": "markdown",
   "metadata": {},
   "source": [
    "### 2.2. Process\n",
    "\n",
    "1. Cut the range of `Cr` from `irm` and set it to `Fcut`.\n",
    "2. ~~[SKIP] Scan the maximum points for the radius and angle by each circle in `Fcut`.~~\n",
    "3. Extract only the maximum as a `Fmax`.\n",
    "4. Wipe the `Fmax` in the range of `Ct`. => `Fwiped`\n",
    "5. Remove all obstacle areas from `Fwiped` with the offset of `base_radius`. => `Fclean`"
   ]
  },
  {
   "cell_type": "code",
   "execution_count": 5,
   "metadata": {},
   "outputs": [
    {
     "name": "stdout",
     "output_type": "stream",
     "text": [
      "######################\n",
      "# 1. Fcut\n",
      "######################\n",
      "Cut the range of `Cr` from `Fraw` and set it to `Fcut`.\n",
      "Lower constraints on Cr: %f deg 0.0\n",
      "Upper constraints on Cr: %f deg 30.100000000000005\n",
      "Input Cr range in degree:  [-90.0, -75.0, -60.0, -45.0, -30.0, -15.0, 0.0, 15.0, 30.0, 45.0, 60.0, 75.0, 90.0]\n"
     ]
    },
    {
     "data": {
      "application/vnd.jupyter.widget-view+json": {
       "model_id": "4b0974bde2db46df8b9f04bffea263f2",
       "version_major": 2,
       "version_minor": 0
      },
      "text/plain": [
       "Canvas(toolbar=Toolbar(toolitems=[('Home', 'Reset original view', 'home', 'home'), ('Back', 'Back to previous …"
      ]
     },
     "metadata": {},
     "output_type": "display_data"
    },
    {
     "name": "stdout",
     "output_type": "stream",
     "text": [
      "######################\n",
      "# 2. Fmax\n",
      "######################\n",
      "And extract only the maximum as a `Fmax`.\n",
      "sq_sections.shape:  (48,)\n",
      "Fmax.shape:  (27, 18)\n",
      "When Ct == 0.0 deg\n"
     ]
    },
    {
     "data": {
      "application/vnd.jupyter.widget-view+json": {
       "model_id": "9feae253268f46b79c12c75d9245e453",
       "version_major": 2,
       "version_minor": 0
      },
      "text/plain": [
       "Canvas(toolbar=Toolbar(toolitems=[('Home', 'Reset original view', 'home', 'home'), ('Back', 'Back to previous …"
      ]
     },
     "metadata": {},
     "output_type": "display_data"
    },
    {
     "name": "stdout",
     "output_type": "stream",
     "text": [
      "######################\n",
      "# 3. Fwiped\n",
      "######################\n",
      "Wipe the `Fmax` in the range of `Ct`. => `Fwiped`\n",
      "min Ct:  -180.0\n",
      "max Ct:  180.0\n",
      "Fwiped.shape:  (3551, 20)\n",
      "Interval is  0.02  [m].\n"
     ]
    },
    {
     "data": {
      "application/vnd.jupyter.widget-view+json": {
       "model_id": "3ac5a8a1dfc141debe07809f43102ecd",
       "version_major": 2,
       "version_minor": 0
      },
      "text/plain": [
       "Canvas(toolbar=Toolbar(toolitems=[('Home', 'Reset original view', 'home', 'home'), ('Back', 'Back to previous …"
      ]
     },
     "metadata": {},
     "output_type": "display_data"
    },
    {
     "name": "stdout",
     "output_type": "stream",
     "text": [
      "######################\n",
      "# 4. Fclean\n",
      "######################\n",
      "Remove all obstacle areas from `Fwiped` with the offset of `Rsize`. => `Fclean`\n",
      "Fclean.shape:  (3551, 20)\n",
      "Fclean.shape:  (1566, 20)\n"
     ]
    },
    {
     "data": {
      "application/vnd.jupyter.widget-view+json": {
       "model_id": "db2fea10a2224ea5b112ea942e5795de",
       "version_major": 2,
       "version_minor": 0
      },
      "text/plain": [
       "Canvas(toolbar=Toolbar(toolitems=[('Home', 'Reset original view', 'home', 'home'), ('Back', 'Back to previous …"
      ]
     },
     "metadata": {},
     "output_type": "display_data"
    }
   ],
   "source": [
    "reposition.calc(Pt, Obs, Cr, Ct, (0.05, 1.0, 0.02))"
   ]
  },
  {
   "cell_type": "markdown",
   "metadata": {},
   "source": [
    "### 2.3. Output\n",
    "\n",
    "Candidate poses\n",
    "(sorted in descending order of manipulability)\n",
    "\n",
    "- `Cr`: Constraints on the approach angle (relative to the robot heading)\n",
    "- `Ct`: Constraints on the approach angle (relative to the target heading)\n",
    "- Chage of the robot heading `Theta = Ct - Cr`\n",
    "\n",
    "| Column Index | Name                     | Unit       | Remark           |\n",
    "| ------------ | ------------------------ | ---------- | ---------------- |\n",
    "| 0            | Ct                       | **DEGREE** |                  |\n",
    "| 1            | Cr                       | **DEGREE** | EE Yaw           |\n",
    "| 2            | Mobile Base x            | meter      | For query output |\n",
    "| 3            | Mobile Base y            | meter      | For query output |\n",
    "| 4            | Manipulability           | -          |                  |\n",
    "| 5            | Target Object z (height) | meter      | For query input  |\n",
    "| 6            | EEP x                    | meter      | Based on base_footprint |\n",
    "| 7            | EEP y                    | meter      | Based on base_footprint |\n",
    "| 8            | EEP z                    | meter      | Based on base_footprint |\n",
    "| 9            | EE Roll                  | **DEGREE** | Based on base_footprint |\n",
    "| 10           | EE Pitch                 | **DEGREE** | Based on base_footprint |\n",
    "| 11           | EE Yaw                   | **DEGREE** | Cr, Based on base_footprint |\n",
    "| 12           | Joint_0 value            | radian     |                  |\n",
    "| 13           | Joint_1 value            | radian     |                  |\n",
    "| >=14         | Joint_2... values        | radian     |                  |\n"
   ]
  },
  {
   "cell_type": "code",
   "execution_count": 6,
   "metadata": {},
   "outputs": [
    {
     "name": "stdout",
     "output_type": "stream",
     "text": [
      "num:  27\n"
     ]
    },
    {
     "data": {
      "application/vnd.jupyter.widget-view+json": {
       "model_id": "678e625ac8374428b7fb6cf58767a66c",
       "version_major": 2,
       "version_minor": 0
      },
      "text/plain": [
       "Canvas(toolbar=Toolbar(toolitems=[('Home', 'Reset original view', 'home', 'home'), ('Back', 'Back to previous …"
      ]
     },
     "metadata": {},
     "output_type": "display_data"
    },
    {
     "name": "stdout",
     "output_type": "stream",
     "text": [
      "Candidate:\n",
      "\t   Base Pose2D: (x: 0.692 m, y: 0.227 m, theta: -155.147 deg)\n",
      "\t            Cr: 30.000 deg\n",
      "\t            Ct: -125.147 deg\n",
      "\t      Target Z: 0.700 m\n",
      "\tManipulability: 0.10802\n",
      "\t  End-effecotr: (x: 0.315 m, y: -0.105 m, z: 0.700 m)\n",
      "\t                (r: -90.000 m, p: 90.000 m, y: 30.000 m) based on [base_footprint]\n",
      "\t   Joint (deg):  ['16.1', '-22.7', '-62.7', '76.2', '72.3', '70.5', '145.9', '25.5']\n",
      "Candidate:\n",
      "\t   Base Pose2D: (x: 0.491 m, y: 0.465 m, theta: -110.650 deg)\n",
      "\t            Cr: 30.000 deg\n",
      "\t            Ct: -80.650 deg\n",
      "\t      Target Z: 0.700 m\n",
      "\tManipulability: 0.10802\n",
      "\t  End-effecotr: (x: 0.315 m, y: -0.105 m, z: 0.700 m)\n",
      "\t                (r: -90.000 m, p: 90.000 m, y: 30.000 m) based on [base_footprint]\n",
      "\t   Joint (deg):  ['16.1', '-22.7', '-62.7', '76.2', '72.3', '70.5', '145.9', '25.5']\n"
     ]
    }
   ],
   "source": [
    "candidates = reposition.get_candidates(num=-1)\n",
    "for c in candidates[:2]:\n",
    "    reposition.candidate_inspector(c)"
   ]
  },
  {
   "cell_type": "markdown",
   "metadata": {},
   "source": [
    "## 3. Client-side\n",
    "\n",
    "Service Output\n",
    "\n",
    "1. `num_candidates` (uint8): The number of candidates\n",
    "2. `candidates` (geometry_msgs/Pose2D[]): x, y, heading of the robot\n",
    "3. `approach_angles` (float64[])\n",
    "4. `manipulabilities` (float64[])\n",
    "5. `joint_angles` (sensor_msgs/JointState[]): radian\n",
    "\n",
    "```     \n",
    "|                  [top view]         X\n",
    "|                                     ^\n",
    "|                                     |\n",
    "|                              Y <---(O)  (base_footprint)\n",
    "|~~~~~~~~~~~~~~~~~~~~~~~~~~~~~~~~~~~~~~~~~~~~~~~~~~~~~~~~~~~~~~~~~~~~~~~~~~~~\n",
    "|      [top view]                  [left view]            [backward view]\n",
    "|    45     0    -45           90 <-----| (hand)            90(X, impossible)\n",
    "|      .    ^    .                   .  |     ###             \\|/\n",
    "|        .  |  .               120 .   180    ###        0 ----+---- -180\n",
    "| 90 <------|------> -90      ============| (ROBOT)            |\n",
    "|                                 table   |                   -90\n",
    "|        (1st Z)          =>           (Y)          =>      (2nd Z) = LWrist_Pitch - 90\n",
    "|    approach angle              look-down angle          hand angle (Thumb direction)\n",
    "```\n",
    "\n",
    "---\n",
    "\n",
    "### Candidates에서 Cost Function 사용\n",
    "\n",
    "Parameters\n",
    "\n",
    "1. `preferred_heading`"
   ]
  },
  {
   "cell_type": "code",
   "execution_count": 7,
   "metadata": {},
   "outputs": [],
   "source": [
    "preferred_heading = np.radians(-60)\n"
   ]
  },
  {
   "cell_type": "markdown",
   "metadata": {},
   "source": [
    "2 type of service\n",
    "\n",
    "- input --> raw candidates\n",
    "- input --> (raw candidates)+(cost func) --> one new position"
   ]
  },
  {
   "cell_type": "code",
   "execution_count": null,
   "metadata": {},
   "outputs": [],
   "source": []
  }
 ],
 "metadata": {
  "kernelspec": {
   "display_name": "Python 2",
   "language": "python",
   "name": "python2"
  },
  "language_info": {
   "codemirror_mode": {
    "name": "ipython",
    "version": 3
   },
   "file_extension": ".py",
   "mimetype": "text/x-python",
   "name": "python",
   "nbconvert_exporter": "python",
   "pygments_lexer": "ipython3",
   "version": "3.6.9"
  }
 },
 "nbformat": 4,
 "nbformat_minor": 4
}
