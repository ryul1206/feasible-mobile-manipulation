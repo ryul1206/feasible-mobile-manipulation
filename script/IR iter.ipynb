{
 "cells": [
  {
   "cell_type": "markdown",
   "metadata": {},
   "source": [
    "# Inverse Reachability Repositioning Iter\n",
    "\n",
    "### Offline"
   ]
  },
  {
   "cell_type": "code",
   "execution_count": 1,
   "metadata": {},
   "outputs": [],
   "source": [
    "import numpy as np\n",
    "import irm\n",
    "\n",
    "base_radius = 0.3\n",
    "irm_path = \"../config/robocare_right_irm.npy\"\n",
    "reposition = irm.InverseReachabilityMap(irm_path, base_radius, is_jupyter=True)"
   ]
  },
  {
   "cell_type": "code",
   "execution_count": 2,
   "metadata": {},
   "outputs": [
    {
     "name": "stdout",
     "output_type": "stream",
     "text": [
      "< Inverse Reachability Solver >\n",
      "Configuration:\n",
      "    Base radius: 0.300000 m\n",
      "    IRM data: ../config/robocare_right_irm.npy\n",
      "       Shape: (7899, 18)\n",
      "\n"
     ]
    }
   ],
   "source": [
    "print(reposition)"
   ]
  },
  {
   "cell_type": "markdown",
   "metadata": {},
   "source": [
    "### Online"
   ]
  },
  {
   "cell_type": "code",
   "execution_count": 3,
   "metadata": {},
   "outputs": [],
   "source": [
    "from collision import CollisionBox\n",
    "\n",
    "Pt = (0.3, 0.1)\n",
    "Obs = [CollisionBox((0.1, 0.0), np.radians(30.0), 0.5, 0.3)]\n",
    "Cr = (np.radians(0), np.radians(30.1))  # min, max\n",
    "Ct = (np.radians(-180), np.radians(180)) # min, max\n",
    "\n",
    "reposition.calc(Pt, Obs, Cr, Ct, (0.05, 1.0, 0.02))"
   ]
  },
  {
   "cell_type": "code",
   "execution_count": 4,
   "metadata": {},
   "outputs": [
    {
     "name": "stdout",
     "output_type": "stream",
     "text": [
      "Candidate:\n",
      "\t   Base Pose2D: (x: 0.692 m, y: 0.227 m, theta: -155.147 deg)\n",
      "\t            Cr: 30.000 deg\n",
      "\t            Ct: -125.147 deg\n",
      "\t      Target Z: 0.700 m\n",
      "\tManipulability: 0.10802\n",
      "\t  End-effecotr: (x: 0.315 m, y: -0.105 m, z: 0.700 m)\n",
      "\t                (r: -90.000 m, p: 90.000 m, y: 30.000 m) based on [base_footprint]\n",
      "\t   Joint (deg):  ['16.1', '-22.7', '-62.7', '76.2', '72.3', '70.5', '145.9', '25.5']\n",
      "Candidate:\n",
      "\t   Base Pose2D: (x: 0.491 m, y: 0.465 m, theta: -110.650 deg)\n",
      "\t            Cr: 30.000 deg\n",
      "\t            Ct: -80.650 deg\n",
      "\t      Target Z: 0.700 m\n",
      "\tManipulability: 0.10802\n",
      "\t  End-effecotr: (x: 0.315 m, y: -0.105 m, z: 0.700 m)\n",
      "\t                (r: -90.000 m, p: 90.000 m, y: 30.000 m) based on [base_footprint]\n",
      "\t   Joint (deg):  ['16.1', '-22.7', '-62.7', '76.2', '72.3', '70.5', '145.9', '25.5']\n"
     ]
    }
   ],
   "source": [
    "candidates = reposition.get_candidates(num=-1)\n",
    "for c in candidates[:2]:\n",
    "    reposition.candidate_inspector(c)"
   ]
  },
  {
   "cell_type": "markdown",
   "metadata": {},
   "source": [
    "### Check"
   ]
  },
  {
   "cell_type": "code",
   "execution_count": 8,
   "metadata": {},
   "outputs": [],
   "source": [
    "import random\n",
    "import timeit\n",
    "import numpy as np\n",
    "\n",
    "num = 1000\n",
    "record = np.zeros(num)"
   ]
  },
  {
   "cell_type": "code",
   "execution_count": 10,
   "metadata": {},
   "outputs": [],
   "source": [
    "for idx in range(num):\n",
    "    x = random.random()\n",
    "    y = random.random()\n",
    "    ox = random.random()\n",
    "    oy = random.random()\n",
    "    orad = random.random() * np.pi * 2\n",
    "    ow = random.random()\n",
    "    oh = random.random()\n",
    "    \n",
    "    CrA = np.radians(random.randrange(-90, -10))\n",
    "    CrB = np.radians(random.randrange(10, 91))\n",
    "    \n",
    "    Pt = (x, y)\n",
    "    Obs = [CollisionBox((ox, oy), orad, ow, oh)]\n",
    "    Cr = (min(CrA, CrB), max(CrA, CrB))\n",
    "    Ct = (np.radians(-180), np.radians(180)) # min, max\n",
    "\n",
    "    ######################\n",
    "    start = timeit.default_timer()\n",
    "    reposition.calc(Pt, Obs, Cr, Ct, (0.05, 1.0, 0.02))\n",
    "    stop = timeit.default_timer()\n",
    "\n",
    "    ######################\n",
    "    sec = stop - start\n",
    "    record[idx] = sec\n",
    "    \n",
    "#     print(sec, \" sec\")\n",
    "#     print(\"  x\\t:\", x)\n",
    "#     print(\"  y\\t:\", y)\n",
    "#     print(\"  ox\\t:\", ox)\n",
    "#     print(\"  oy\\t:\", oy)\n",
    "#     print(\"  orad\\t:\", orad)\n",
    "#     print(\"  ow\\t:\", ow)\n",
    "#     print(\"  oh\\t:\", oh)\n",
    "#     print(\"  Pt\\t:\", Pt)\n",
    "#     print(\"  Obs\\t:\", Obs)\n",
    "#     print(\"  Cr\\t:\", np.degrees(Cr))\n",
    "    "
   ]
  },
  {
   "cell_type": "markdown",
   "metadata": {},
   "source": [
    "### Result"
   ]
  },
  {
   "cell_type": "code",
   "execution_count": 11,
   "metadata": {},
   "outputs": [
    {
     "name": "stdout",
     "output_type": "stream",
     "text": [
      "1000\n",
      "평균: \t 0.054096445056260566\n",
      "분산: \t 6.745890588639227e-05\n",
      "표준편차:\t 0.008213337073710799\n"
     ]
    }
   ],
   "source": [
    "print(len(record))\n",
    "print(\"평균: \\t\", np.mean(record))\n",
    "print(\"분산: \\t\", np.var(record))\n",
    "print(\"표준편차:\\t\", np.std(record))"
   ]
  },
  {
   "cell_type": "code",
   "execution_count": 7,
   "metadata": {},
   "outputs": [],
   "source": [
    "a = np.array([1, 2])\n",
    "b = np.array([3, 4])"
   ]
  },
  {
   "cell_type": "code",
   "execution_count": null,
   "metadata": {},
   "outputs": [],
   "source": []
  }
 ],
 "metadata": {
  "kernelspec": {
   "display_name": "Python 2",
   "language": "python",
   "name": "python2"
  },
  "language_info": {
   "codemirror_mode": {
    "name": "ipython",
    "version": 3
   },
   "file_extension": ".py",
   "mimetype": "text/x-python",
   "name": "python",
   "nbconvert_exporter": "python",
   "pygments_lexer": "ipython3",
   "version": "3.6.9"
  }
 },
 "nbformat": 4,
 "nbformat_minor": 4
}
