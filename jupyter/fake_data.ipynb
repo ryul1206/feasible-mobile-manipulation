{
 "cells": [
  {
   "cell_type": "code",
   "execution_count": 1,
   "metadata": {},
   "outputs": [],
   "source": [
    "%matplotlib widget\n",
    "# https://www.npmjs.com/package/@jupyter-widgets/jupyterlab-manager\n",
    "# For JupyterLab 2.x, use jupyter labextension install @jupyter-widgets/jupyterlab-manager@2\n",
    "# %matplotlib inline"
   ]
  },
  {
   "cell_type": "markdown",
   "metadata": {},
   "source": [
    "# Fake Data\n",
    "\n",
    "```\n",
    "theta0\n",
    "x1 x2 x3 x4 x5 ... x100\n",
    "y1 y2 y3 y4 y5 ... y100\n",
    "u1 u2 u3 u4 u5 ... u100\n",
    "\n",
    "c0 -s0  0\n",
    "s0  c0  0\n",
    " 0   0  1\n",
    "```"
   ]
  },
  {
   "cell_type": "code",
   "execution_count": 2,
   "metadata": {},
   "outputs": [],
   "source": [
    "import numpy as np"
   ]
  },
  {
   "cell_type": "markdown",
   "metadata": {},
   "source": [
    "## Sample Manipulability Map\n",
    "\n",
    "```\n",
    "manip\n",
    "     x   x: 0.0 - 0.3\n",
    "     ^   y: -0.1 - -0.4\n",
    "y <--|\n",
    "```"
   ]
  },
  {
   "cell_type": "code",
   "execution_count": 3,
   "metadata": {},
   "outputs": [],
   "source": [
    "NUM_DOTS = 15\n",
    "\n",
    "# Binary entropy function\n",
    "p = np.array([(x+0.0001)/NUM_DOTS for x in range(NUM_DOTS)])\n",
    "pi = 1 - p\n",
    "entropy = -( np.multiply(p, np.log(p)) + np.multiply(pi, np.log(pi)) )"
   ]
  },
  {
   "cell_type": "code",
   "execution_count": 4,
   "metadata": {},
   "outputs": [
    {
     "data": {
      "text/plain": [
       "1575"
      ]
     },
     "execution_count": 4,
     "metadata": {},
     "output_type": "execute_result"
    }
   ],
   "source": [
    "data = []\n",
    "for th in range(-90, 91, 30):\n",
    "    for x in range(NUM_DOTS):\n",
    "        idx = 0\n",
    "        for y in range(NUM_DOTS):\n",
    "            m = (entropy[idx]*1.5)\n",
    "            m = m if m < 1.0 else 1.0\n",
    "            if (y > x):\n",
    "                m = 0.0\n",
    "            data.append((th, x, y, m))\n",
    "            idx += 1\n",
    "len(data)"
   ]
  },
  {
   "cell_type": "markdown",
   "metadata": {},
   "source": [
    "3D data (full directions)"
   ]
  },
  {
   "cell_type": "code",
   "execution_count": 5,
   "metadata": {},
   "outputs": [
    {
     "data": {
      "text/plain": [
       "(1575,)"
      ]
     },
     "execution_count": 5,
     "metadata": {},
     "output_type": "execute_result"
    }
   ],
   "source": [
    "data3d = np.array(data, dtype=[('theta', np.float32), ('x', np.float32), ('y', np.float32), ('manip', np.float32)])\n",
    "data3d.shape"
   ]
  },
  {
   "cell_type": "markdown",
   "metadata": {},
   "source": [
    "2D data (only one degree)"
   ]
  },
  {
   "cell_type": "code",
   "execution_count": 6,
   "metadata": {},
   "outputs": [
    {
     "data": {
      "text/plain": [
       "array([],\n",
       "      dtype=[('theta', '<f4'), ('x', '<f4'), ('y', '<f4'), ('manip', '<f4')])"
      ]
     },
     "execution_count": 6,
     "metadata": {},
     "output_type": "execute_result"
    }
   ],
   "source": [
    "def extract_specific_theta(data3d, theta):\n",
    "    filter_arr = data3d['theta'] == theta\n",
    "    return data3d[filter_arr]\n",
    "\n",
    "extract_specific_theta(data3d, 0.1)"
   ]
  },
  {
   "cell_type": "code",
   "execution_count": 7,
   "metadata": {},
   "outputs": [
    {
     "data": {
      "text/plain": [
       "(225,)"
      ]
     },
     "execution_count": 7,
     "metadata": {},
     "output_type": "execute_result"
    }
   ],
   "source": [
    "data2d = extract_specific_theta(data3d, 0.0)\n",
    "data2d.shape"
   ]
  },
  {
   "cell_type": "markdown",
   "metadata": {},
   "source": [
    "### Save data"
   ]
  },
  {
   "cell_type": "code",
   "execution_count": 8,
   "metadata": {},
   "outputs": [],
   "source": [
    "# output = np.zeros(names.size, dtype=[('name', 'U32'), ('r', float),('m',float)])\n",
    "# np.savetxt(\"foo.csv\", output, delimiter=\",\", header=\"name,r,m\", fmt=\"%s,%f,%f\", comments='')\n",
    "np.save('fake_data', data3d)"
   ]
  },
  {
   "cell_type": "markdown",
   "metadata": {},
   "source": [
    "### Load data"
   ]
  },
  {
   "cell_type": "code",
   "execution_count": 9,
   "metadata": {},
   "outputs": [
    {
     "name": "stdout",
     "output_type": "stream",
     "text": [
      "(1575,)\n"
     ]
    },
    {
     "data": {
      "text/plain": [
       "array([(-90.,  0.,  0., 1.2918387e-04), (-90.,  0.,  1., 0.0000000e+00),\n",
       "       (-90.,  0.,  2., 0.0000000e+00), ...,\n",
       "       ( 90., 14., 12., 7.5058979e-01), ( 90., 14., 13., 5.8899295e-01),\n",
       "       ( 90., 14., 14., 3.6736864e-01)],\n",
       "      dtype=[('theta', '<f4'), ('x', '<f4'), ('y', '<f4'), ('manip', '<f4')])"
      ]
     },
     "execution_count": 9,
     "metadata": {},
     "output_type": "execute_result"
    }
   ],
   "source": [
    "test = np.load('fake_data.npy')\n",
    "print(test.shape)\n",
    "test"
   ]
  },
  {
   "cell_type": "markdown",
   "metadata": {},
   "source": [
    "## Plot Functions"
   ]
  },
  {
   "cell_type": "code",
   "execution_count": 10,
   "metadata": {},
   "outputs": [],
   "source": [
    "import matplotlib.pyplot as plt\n",
    "\n",
    "def scatter_2d(ax, theta, xs, ys, manip):\n",
    "    colors = np.array([(1.0-m, m, 0.0, m) for m in manip])\n",
    "    ax.scatter(xs, ys, c=colors)\n",
    "    ax.set_xlabel('x(cm)', fontsize=15)\n",
    "    ax.set_ylabel('y(cm)', fontsize=15)\n",
    "    ax.set_title('Manipulability Layer: $\\Theta$ = %.1f deg'% theta)\n",
    "    ax.grid(True)"
   ]
  },
  {
   "cell_type": "markdown",
   "metadata": {},
   "source": [
    "2D Example:"
   ]
  },
  {
   "cell_type": "code",
   "execution_count": 11,
   "metadata": {},
   "outputs": [
    {
     "data": {
      "application/vnd.jupyter.widget-view+json": {
       "model_id": "1e1bd8da3cd8447f854594cdd4e0cef1",
       "version_major": 2,
       "version_minor": 0
      },
      "text/plain": [
       "Canvas(toolbar=Toolbar(toolitems=[('Home', 'Reset original view', 'home', 'home'), ('Back', 'Back to previous …"
      ]
     },
     "metadata": {},
     "output_type": "display_data"
    }
   ],
   "source": [
    "fig, ((ax1, ax2), (ax3, ax4)) = plt.subplots(nrows=2, ncols=2)\n",
    "scatter_2d(ax1, 0, data2d['x'], data2d['y'], data2d['manip'])\n",
    "fig.tight_layout()\n",
    "plt.show()"
   ]
  },
  {
   "cell_type": "markdown",
   "metadata": {},
   "source": [
    "3D Exmaple:"
   ]
  },
  {
   "cell_type": "code",
   "execution_count": 12,
   "metadata": {},
   "outputs": [
    {
     "data": {
      "application/vnd.jupyter.widget-view+json": {
       "model_id": "97bf937bd02c462d8bd93aa12f3cc65f",
       "version_major": 2,
       "version_minor": 0
      },
      "text/plain": [
       "Canvas(toolbar=Toolbar(toolitems=[('Home', 'Reset original view', 'home', 'home'), ('Back', 'Back to previous …"
      ]
     },
     "metadata": {},
     "output_type": "display_data"
    }
   ],
   "source": [
    "import matplotlib.pyplot as plt\n",
    "from mpl_toolkits.mplot3d import Axes3D\n",
    "\n",
    "def scatter_3d(ax, theta, xs, ys, manip):\n",
    "    colors = np.array([(1.0-m, m, 0.0, m) for m in manip])\n",
    "    ax.scatter(xs, ys, zs=theta, c=colors)\n",
    "    ax.set_xlabel('x(cm)', fontsize=15)\n",
    "    ax.set_ylabel('y(cm)', fontsize=15)\n",
    "    ax.set_zlabel('$\\Theta$(deg)', fontsize=15)\n",
    "    ax.set_title('Manipulability Map')\n",
    "\n",
    "fig = plt.figure()\n",
    "ax = fig.add_subplot(111, projection='3d')\n",
    "\n",
    "scatter_3d(ax, data3d['theta'], data3d['x'], data3d['y'], data3d['manip'])\n",
    "fig.tight_layout()\n",
    "plt.show()"
   ]
  },
  {
   "cell_type": "code",
   "execution_count": null,
   "metadata": {},
   "outputs": [],
   "source": []
  }
 ],
 "metadata": {
  "kernelspec": {
   "display_name": "Python 2",
   "language": "python",
   "name": "python2"
  },
  "language_info": {
   "codemirror_mode": {
    "name": "ipython",
    "version": 3
   },
   "file_extension": ".py",
   "mimetype": "text/x-python",
   "name": "python",
   "nbconvert_exporter": "python",
   "pygments_lexer": "ipython3",
   "version": "3.6.9"
  }
 },
 "nbformat": 4,
 "nbformat_minor": 4
}
