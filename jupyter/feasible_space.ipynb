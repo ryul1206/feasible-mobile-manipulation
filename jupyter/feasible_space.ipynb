{
 "cells": [
  {
   "cell_type": "code",
   "execution_count": 1,
   "metadata": {},
   "outputs": [],
   "source": [
    "%matplotlib widget\n",
    "\n",
    "import numpy as np"
   ]
  },
  {
   "cell_type": "markdown",
   "metadata": {},
   "source": [
    "# Mapping to Feasible Space\n",
    "\n",
    "1. load data\n",
    "2. process\n",
    "3. plot"
   ]
  },
  {
   "cell_type": "markdown",
   "metadata": {},
   "source": [
    "## 1. Load data\n",
    "\n",
    "x-y-theta"
   ]
  },
  {
   "cell_type": "code",
   "execution_count": 2,
   "metadata": {},
   "outputs": [
    {
     "name": "stdout",
     "output_type": "stream",
     "text": [
      "(1575,)\n"
     ]
    },
    {
     "data": {
      "text/plain": [
       "array([(-90.,  0.,  0., 1.2918387e-04), (-90.,  0.,  1., 0.0000000e+00),\n",
       "       (-90.,  0.,  2., 0.0000000e+00), ...,\n",
       "       ( 90., 14., 12., 7.5058979e-01), ( 90., 14., 13., 5.8899295e-01),\n",
       "       ( 90., 14., 14., 3.6736864e-01)],\n",
       "      dtype=[('theta', '<f4'), ('x', '<f4'), ('y', '<f4'), ('manip', '<f4')])"
      ]
     },
     "execution_count": 2,
     "metadata": {},
     "output_type": "execute_result"
    }
   ],
   "source": [
    "data3d = np.load('fake_data.npy')\n",
    "print(data3d.shape)\n",
    "data3d"
   ]
  },
  {
   "cell_type": "code",
   "execution_count": 3,
   "metadata": {},
   "outputs": [],
   "source": [
    "def extract_specific_theta(data3d, theta):\n",
    "    filter_arr = (data3d['theta'] == theta)\n",
    "    rec = data3d[filter_arr]\n",
    "    new_shape = rec.shape + (-1,)  # (225, -1) = (225,) + (-1,)\n",
    "    normal_arr = rec.view(np.float32).reshape(new_shape)\n",
    "\n",
    "    # ROW = 0\n",
    "    COL = 1\n",
    "    index = 0\n",
    "    normal_arr = np.delete(normal_arr, index, COL)\n",
    "    normal_arr = np.transpose(normal_arr)\n",
    "    return normal_arr"
   ]
  },
  {
   "cell_type": "code",
   "execution_count": 4,
   "metadata": {},
   "outputs": [
    {
     "name": "stdout",
     "output_type": "stream",
     "text": [
      "(3, 225)\n",
      "dict_keys([0.0, -30.0, -60.0, -90.0, 90.0, 60.0, 30.0])\n"
     ]
    }
   ],
   "source": [
    "theta_list = set(data3d['theta'])\n",
    "manip_map = {}\n",
    "for theta in theta_list:\n",
    "    manip_map[theta] = extract_specific_theta(data3d, theta)\n",
    "\n",
    "print(manip_map[0].shape)\n",
    "print(manip_map.keys())"
   ]
  },
  {
   "cell_type": "markdown",
   "metadata": {},
   "source": [
    "## 2. Process\n",
    "### (1) Rotation Function\n",
    "\n",
    "```\n",
    "[rot]      | [theta0]\n",
    "c0 -s0  0  | x1 x2 x3 x4 x5 ... x100\n",
    "s0  c0  0  | y1 y2 y3 y4 y5 ... y100\n",
    " 0   0  1  | u1 u2 u3 u4 u5 ... u100\n",
    "\n",
    "```"
   ]
  },
  {
   "cell_type": "code",
   "execution_count": 5,
   "metadata": {},
   "outputs": [],
   "source": [
    "def rotation_z(degree):\n",
    "    rad = np.radians(degree)\n",
    "    c, s = np.cos(rad), np.sin(rad)\n",
    "    R = np.array((\n",
    "        (c, -s, 0),\n",
    "        (s,  c, 0),\n",
    "        (0,  0, 1)\n",
    "    ))\n",
    "    return R\n",
    "\n",
    "def manipulability_to_feasibility(manipulability_map):\n",
    "    \"\"\"\n",
    "    manipulability_map & feasibility_map\n",
    "        key: degree\n",
    "        value: [(x, y, manip), ...]\n",
    "    \n",
    "    [rot]      | [theta0]\n",
    "    c0 -s0  0  | x1 x2 x3 x4 x5 ... x100\n",
    "    s0  c0  0  | y1 y2 y3 y4 y5 ... y100\n",
    "     0   0  1  | u1 u2 u3 u4 u5 ... u100\n",
    "    \"\"\"\n",
    "    feasibility_map = {}\n",
    "    for theta, mlayer in manipulability_map.items():\n",
    "        R = rotation_z(180 - theta)\n",
    "        # print(type(R), R.shape)\n",
    "        # print(type(mlayer), mlayer.shape)\n",
    "        flayer = np.dot(R, mlayer)\n",
    "        feasibility_map[theta] = flayer\n",
    "    return feasibility_map"
   ]
  },
  {
   "cell_type": "markdown",
   "metadata": {},
   "source": [
    "### (2) Linear Transformation"
   ]
  },
  {
   "cell_type": "code",
   "execution_count": 6,
   "metadata": {},
   "outputs": [
    {
     "name": "stdout",
     "output_type": "stream",
     "text": [
      "(3, 225)\n",
      "(3, 225)\n"
     ]
    }
   ],
   "source": [
    "feasi_map = manipulability_to_feasibility(manip_map)\n",
    "print(manip_map[0].shape)\n",
    "print(feasi_map[0].shape)"
   ]
  },
  {
   "cell_type": "markdown",
   "metadata": {},
   "source": [
    "## 3. Plot\n",
    "### 2D plot"
   ]
  },
  {
   "cell_type": "code",
   "execution_count": 7,
   "metadata": {},
   "outputs": [],
   "source": [
    "import matplotlib.pyplot as plt\n",
    "\n",
    "def scatter_2d(ax, theta, xs, ys, manip, dot_size=1, arrow_size=2):\n",
    "    colors = np.array([(1.0-m, m, 0.0, m) for m in manip])\n",
    "    ax.scatter(xs, ys, c=colors, s=dot_size)\n",
    "    ax.set_xlabel('x(cm)', fontsize=15)\n",
    "    ax.set_ylabel('y(cm)', fontsize=15)\n",
    "    ax.set_title('Manipulability Layer: $\\Theta$ = %.1f deg'% theta)\n",
    "    ax.grid(True)\n",
    "    # robot and object\n",
    "    arrow_x = np.array([1.0, -0.5, -0.5, 1.0]) * arrow_size\n",
    "    arrow_y = np.array([0.0, 0.5, -0.5, 0.0]) * arrow_size\n",
    "    ax.plot(arrow_x, arrow_y)\n",
    "    "
   ]
  },
  {
   "cell_type": "code",
   "execution_count": 8,
   "metadata": {},
   "outputs": [
    {
     "data": {
      "application/vnd.jupyter.widget-view+json": {
       "model_id": "b4f1611ed6564a96ae836d9ffca714c9",
       "version_major": 2,
       "version_minor": 0
      },
      "text/plain": [
       "Canvas(toolbar=Toolbar(toolitems=[('Home', 'Reset original view', 'home', 'home'), ('Back', 'Back to previous …"
      ]
     },
     "metadata": {},
     "output_type": "display_data"
    }
   ],
   "source": [
    "M = manip_map[0.0]\n",
    "F = feasi_map[0.0]\n",
    "\n",
    "fig, (ax1, ax2) = plt.subplots(nrows=1, ncols=2)\n",
    "scatter_2d(ax1, 0, M[0], M[1], M[2])\n",
    "scatter_2d(ax2, 0, F[0], F[1], F[2])\n",
    "\n",
    "xyminmax = [-20, 20, -20, 20]\n",
    "ax1.axis(xyminmax)\n",
    "ax2.axis(xyminmax)\n",
    "fig.tight_layout()\n",
    "plt.show()"
   ]
  },
  {
   "cell_type": "markdown",
   "metadata": {},
   "source": [
    "### 3D plot"
   ]
  },
  {
   "cell_type": "code",
   "execution_count": 11,
   "metadata": {},
   "outputs": [],
   "source": [
    "import matplotlib.pyplot as plt\n",
    "from mpl_toolkits.mplot3d import Axes3D\n",
    "\n",
    "def scatter_3d(ax, theta, xs, ys, manip, dot_size=1, arrow_size=2):\n",
    "    colors = np.array([(1.0-m, m, 0.0, m) for m in manip])\n",
    "    ax.scatter(xs, ys, zs=theta, c=colors, s=dot_size)\n",
    "    ax.set_xlabel('x(cm)', fontsize=15)\n",
    "    ax.set_ylabel('y(cm)', fontsize=15)\n",
    "    ax.set_zlabel('$\\Theta$(deg)', fontsize=15)\n",
    "    ax.set_title('Manipulability Map')\n",
    "    # robot and object\n",
    "    arrow_x = np.array([1.0, -0.5, -0.5, 1.0]) * arrow_size\n",
    "    arrow_y = np.array([0.0, 0.5, -0.5, 0.0]) * arrow_size\n",
    "    arrow_z = np.array([theta, theta, theta, theta])\n",
    "    ax.plot(arrow_x, arrow_y, arrow_z)\n",
    "\n",
    "# fig = plt.figure()\n",
    "# ax = fig.add_subplot(111, projection='3d')\n",
    "\n",
    "# scatter_3d(ax, data3d['theta'], data3d['x'], data3d['y'], data3d['manip'])\n",
    "# fig.tight_layout()\n",
    "# plt.show()"
   ]
  },
  {
   "cell_type": "code",
   "execution_count": 12,
   "metadata": {},
   "outputs": [
    {
     "data": {
      "application/vnd.jupyter.widget-view+json": {
       "model_id": "295d7913396f4374b2d884167046fbba",
       "version_major": 2,
       "version_minor": 0
      },
      "text/plain": [
       "Canvas(toolbar=Toolbar(toolitems=[('Home', 'Reset original view', 'home', 'home'), ('Back', 'Back to previous …"
      ]
     },
     "metadata": {},
     "output_type": "display_data"
    }
   ],
   "source": [
    "fig = plt.figure()\n",
    "ax1 = fig.add_subplot(121, projection='3d')\n",
    "ax2 = fig.add_subplot(122, projection='3d')\n",
    "\n",
    "for theta in manip_map.keys():\n",
    "    M = manip_map[theta]\n",
    "    F = feasi_map[theta]\n",
    "    T = np.empty(len(M))\n",
    "    T.fill(theta)\n",
    "    scatter_3d(ax1, theta, M[0], M[1], M[2], dot_size=1.5)\n",
    "    scatter_3d(ax2, theta, F[0], F[1], F[2], dot_size=1.5)\n",
    "\n",
    "xyminmax = [-20, 20, -20, 20]\n",
    "ax1.axis(xyminmax)\n",
    "ax2.axis(xyminmax)\n",
    "fig.tight_layout()\n",
    "plt.show()"
   ]
  },
  {
   "cell_type": "code",
   "execution_count": null,
   "metadata": {},
   "outputs": [],
   "source": []
  }
 ],
 "metadata": {
  "kernelspec": {
   "display_name": "Python 2",
   "language": "python",
   "name": "python2"
  },
  "language_info": {
   "codemirror_mode": {
    "name": "ipython",
    "version": 3
   },
   "file_extension": ".py",
   "mimetype": "text/x-python",
   "name": "python",
   "nbconvert_exporter": "python",
   "pygments_lexer": "ipython3",
   "version": "3.6.9"
  }
 },
 "nbformat": 4,
 "nbformat_minor": 4
}
