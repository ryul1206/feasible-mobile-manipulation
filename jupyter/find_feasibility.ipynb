{
 "cells": [
  {
   "cell_type": "markdown",
   "metadata": {},
   "source": [
    "# Find a Feasible Mobile Manipulation\n",
    "\n",
    "1. Offline\n",
    "    1. Configuration\n",
    "        1. `M`: X-Y-Cr manipulability map\n",
    "        2. `Rsize`: the size of the robot-base\n",
    "    1. Preparation\n",
    "        1. Convert the `M` to a feasibility map `F` (helical shape).\n",
    "        2. ~~[SKIP] Convert a cartesian grid `F` to a cylindrical grid `F` by linear interpolation.~~\n",
    "2. Online\n",
    "    1. Input\n",
    "        1. `Pt`: Position of the target object (relative to the robot’s current pose)\n",
    "        2. `Obs`: Area list of ground obstacles\n",
    "        3. `Cr`: Constraints on the approach angle (relative to the robot heading)\n",
    "        4. `Ct`: Constraints on the approach angle (relative to the target heading)\n",
    "    2. Process\n",
    "        1. Cut the range of `Cr` from `F` and set it to `Fcut`.\n",
    "        2. ~~[SKIP] Scan the maximum points for the radius and angle by each circle in `Fcut`.~~\n",
    "        3. Wipe the `Fcut` in the range of `Ct`.\n",
    "        4. And extract only the maximum as a `Fmax`.\n",
    "        5. Remove all obstacle areas from `Fmax` with the offset of `Rsize`.\n",
    "    3. Output\n",
    "        1. Candidate poses (sorted in descending order of manipulability)"
   ]
  },
  {
   "cell_type": "markdown",
   "metadata": {},
   "source": [
    "## 1. Offline\n",
    "\n",
    "### 1.0. Utils"
   ]
  },
  {
   "cell_type": "code",
   "execution_count": 1,
   "metadata": {},
   "outputs": [],
   "source": [
    "%matplotlib widget\n",
    "\n",
    "import numpy as np\n",
    "import matplotlib.pyplot as plt\n",
    "from mpl_toolkits.mplot3d import Axes3D\n",
    "\"\"\"\n",
    "raw:\n",
    "    [[Cr x y manip],\n",
    "     [Cr x y manip], ...]\n",
    "layers:\n",
    "    [deg]: [[x, ...],\n",
    "            [y, ...],\n",
    "            [manip, ...]]\n",
    "\"\"\"\n",
    "\n",
    "def recarray_to_ndarray(recarray):\n",
    "    new_shape = recarray.shape + (-1,)  # (225, -1) = (225,) + (-1,)\n",
    "    ndarray = recarray.view(np.float32).reshape(new_shape)\n",
    "    return ndarray\n",
    "\n",
    "def rotation_z(rad):\n",
    "    c, s = np.cos(rad), np.sin(rad)\n",
    "    R = np.array((\n",
    "        (c, -s, 0),\n",
    "        (s,  c, 0),\n",
    "        (0,  0, 1)\n",
    "    ))\n",
    "    return R\n",
    "\n",
    "def raw_to_layers(raw):\n",
    "    def extract_specific_Cr(raw, Cr):\n",
    "        filter_arr = (raw[:,0] == Cr)\n",
    "        layer = raw[filter_arr]\n",
    "        layer = layer[:,1:].copy()\n",
    "        return np.transpose(layer)\n",
    "    layers = {}\n",
    "    for Cr in set(raw[:,0]):\n",
    "        layers[Cr] = extract_specific_Cr(raw, Cr)\n",
    "    return layers\n",
    "\n",
    "def layers_to_raw(layers):\n",
    "    num_points = 0\n",
    "    for Cr, layer in layers.items():\n",
    "        num_points += layer.shape[1]\n",
    "    raw = np.zeros((num_points, 4), dtype=np.float32)\n",
    "    idx = 0\n",
    "    for Cr, layer in layers.items():\n",
    "        next_idx = idx + layer.shape[1]\n",
    "        layer_raw = raw[idx:next_idx]\n",
    "        layer_raw[:,0] += Cr\n",
    "        layer_raw[:,1:] = np.transpose(layer)\n",
    "        idx = next_idx\n",
    "    return raw\n",
    "\n",
    "def manip_color(manip):\n",
    "    return (1.0-manip, manip, 0.0, manip)\n",
    "\n",
    "def scatter_2d(ax, data, xyMinMax, is_feasibility=True, dot_size=1, arrow_size=2):\n",
    "    if type(data) is dict:  # layers\n",
    "        for Cr, layer in data.items():\n",
    "            xs, ys, ms = layer\n",
    "            colors = np.array([manip_color(m) for m in ms])\n",
    "            ax.scatter(xs, ys, c=colors, s=dot_size)\n",
    "        dkeys = [int(k) for k in data.keys()]\n",
    "    elif data.shape[1] == 4:  # raw\n",
    "        raw = np.transpose(data)\n",
    "        Crs, xs, ys, ms = raw\n",
    "        colors = np.array([manip_color(m) for m in ms])\n",
    "        ax.scatter(xs, ys, c=colors, s=dot_size)\n",
    "        dkeys = [int(k) for k in set(Crs)]\n",
    "    else:\n",
    "        raise TypeError()\n",
    "    ax.set_title('%s $C_{r}(deg)$:\\n%s'% ('Feasibility' if is_feasibility else 'Manipulability', dkeys))\n",
    "    ax.set_xlabel('x(cm)', fontsize=15)\n",
    "    ax.set_ylabel('y(cm)', fontsize=15)\n",
    "    ax.axis(xyMinMax)             \n",
    "    ax.grid(True)\n",
    "    \n",
    "    # robot and object\n",
    "    if is_feasibility:  # object\n",
    "        marker_x = [1.0, -0.5, -0.5, -0.5]\n",
    "        marker_y = [0.0, 0.0, -0.5, 0.5]\n",
    "    else:  # robot\n",
    "        marker_x = [1.0, -0.5, -0.5, 1.0]\n",
    "        marker_y = [0.0, 0.5, -0.5, 0.0]\n",
    "    arrow_x = np.array(marker_x) * arrow_size\n",
    "    arrow_y = np.array(marker_y) * arrow_size\n",
    "    ax.plot(arrow_x, arrow_y)\n",
    "\n",
    "# fig, (ax1, ax2) = plt.subplots(nrows=1, ncols=2)\n",
    "# xyminmax = [-20, 20, -20, 20]\n",
    "# scatter_2d(ax1, manip_layers, xyminmax, is_feasibility=False)\n",
    "# scatter_2d(ax2, self.feasi_raw, xyminmax)\n",
    "# fig.tight_layout()\n",
    "# plt.show()\n",
    "    \n",
    "def scatter_3d(ax, data, xyMinMax, is_feasibility=True, dot_size=2, arrow_size=2):\n",
    "    if type(data) is dict:  # layers\n",
    "        dkeys = [int(k) for k in data.keys()]\n",
    "        raw = layers_to_raw(data)\n",
    "    elif data.shape[1] == 4:  # raw\n",
    "        dkeys = [int(k) for k in set(data[:,0])]\n",
    "        raw = data\n",
    "    else:\n",
    "        raise TypeError()\n",
    "    Crs, xs, ys, ms = np.transpose(raw)\n",
    "    colors = np.array([manip_color(m) for m in ms])\n",
    "    ax.scatter(xs, ys, zs=Crs, c=colors, s=dot_size)\n",
    "    ax.set_xlabel('x(cm)', fontsize=15)\n",
    "    ax.set_ylabel('y(cm)', fontsize=15)\n",
    "    ax.set_zlabel('$C_{r}$(deg)', fontsize=15)\n",
    "    ax.axis(xyMinMax)\n",
    "    ax.set_title('Feasibility' if is_feasibility else 'Manipulability')\n",
    "    \n",
    "    # robot and object\n",
    "    if is_feasibility:  # object\n",
    "        marker_x = [1.0, -0.5, -0.5, -0.5]\n",
    "        marker_y = [0.0, 0.0, -0.5, 0.5]\n",
    "    else:  # robot\n",
    "        marker_x = [1.0, -0.5, -0.5, 1.0]\n",
    "        marker_y = [0.0, 0.5, -0.5, 0.0]\n",
    "    arrow_x = np.array(marker_x) * arrow_size\n",
    "    arrow_y = np.array(marker_y) * arrow_size\n",
    "    for c in dkeys:\n",
    "        arrow_z = np.array([c, c, c, c])\n",
    "        ax.plot(arrow_x, arrow_y, arrow_z)\n",
    "\n",
    "# fig = plt.figure()\n",
    "# ax1 = fig.add_subplot(121, projection='3d')\n",
    "# ax2 = fig.add_subplot(122, projection='3d')\n",
    "# xyminmax = [-20, 20, -20, 20]\n",
    "# scatter_3d(ax1, manip_layers, xyminmax, is_feasibility=False)\n",
    "# scatter_3d(ax2, self.feasi_raw, xyminmax)\n",
    "# plt.show()"
   ]
  },
  {
   "cell_type": "markdown",
   "metadata": {},
   "source": [
    "### 1.1. Configuration\n",
    "\n",
    "1. `Rsize`: the size of the robot-base\n",
    "2. `M`: X-Y-Cr manipulability map\n",
    "\n",
    "```\n",
    "Cr Cr ...\n",
    "x x ...\n",
    "y y ... \n",
    "m m ...\n",
    "```"
   ]
  },
  {
   "cell_type": "code",
   "execution_count": 2,
   "metadata": {},
   "outputs": [],
   "source": [
    "Rsize = 5"
   ]
  },
  {
   "cell_type": "code",
   "execution_count": 3,
   "metadata": {},
   "outputs": [
    {
     "name": "stdout",
     "output_type": "stream",
     "text": [
      "(1575, 4)\n",
      "[[-9.0000000e+01  0.0000000e+00  0.0000000e+00  1.2918387e-04]\n",
      " [-9.0000000e+01  0.0000000e+00  1.0000000e+00  0.0000000e+00]\n",
      " [-9.0000000e+01  0.0000000e+00  2.0000000e+00  0.0000000e+00]\n",
      " ...\n",
      " [ 9.0000000e+01  1.4000000e+01  1.2000000e+01  7.5058979e-01]\n",
      " [ 9.0000000e+01  1.4000000e+01  1.3000000e+01  5.8899295e-01]\n",
      " [ 9.0000000e+01  1.4000000e+01  1.4000000e+01  3.6736864e-01]]\n"
     ]
    }
   ],
   "source": [
    "M = np.load('fake_data.npy')\n",
    "M = recarray_to_ndarray(M)\n",
    "print(M.shape)\n",
    "print(M)"
   ]
  },
  {
   "cell_type": "markdown",
   "metadata": {},
   "source": [
    "### 1.2. Preparation\n",
    "\n",
    "1. Convert the `M` to a feasibility map `F` (helical shape).\n",
    "\n",
    "Cr, x, y, manipulability"
   ]
  },
  {
   "cell_type": "code",
   "execution_count": 4,
   "metadata": {},
   "outputs": [],
   "source": [
    "class CollisionBox:\n",
    "    def __init__(self, width, length, center, rad):\n",
    "        \"\"\"\n",
    "                       | y, length\n",
    "                       | \n",
    "           ------------- x, width\n",
    "        \"\"\"\n",
    "        self.half_width = width / 2.0\n",
    "        self.half_length = length / 2.0\n",
    "        self.center = np.array(center)\n",
    "        self.angle = rad\n",
    "        self.minx, self.maxx, self.miny, self.maxy = (None, None, None, None)\n",
    "        self.vertices = self._get_vertices()\n",
    "        self.offsets = None\n",
    "        self.offset_w = None\n",
    "        self.offset_l = None\n",
    "        self.inv_R = self._calc_rotation(-self.angle)\n",
    "        \n",
    "    @staticmethod\n",
    "    def _calc_rotation(rad):\n",
    "        c, s = np.cos(rad), np.sin(rad)\n",
    "        return np.array(((c, -s),\n",
    "                         (s,  c)))\n",
    "    \n",
    "    def _get_vertices(self):\n",
    "        xy = np.array([[-self.half_width, -self.half_width,  self.half_width, self.half_width],\n",
    "                       [ self.half_length, -self.half_length, -self.half_length, self.half_length]])\n",
    "        R = self._calc_rotation(self.angle)\n",
    "        vertices = np.matmul(R, xy)\n",
    "        vertices[0] += self.center[0]\n",
    "        vertices[1] += self.center[1]\n",
    "        return vertices\n",
    "        \n",
    "    def set_offset(self, robot_radius):\n",
    "        self.offset_w = w = self.half_width + robot_radius\n",
    "        self.offset_l = l = self.half_length + robot_radius\n",
    "        xy = np.array([[-w, -w,  w, w],\n",
    "                       [ l, -l, -l, l]])\n",
    "        R = self._calc_rotation(self.angle)\n",
    "        offsets = np.matmul(R, xy)\n",
    "        offsets[0] += self.center[0]\n",
    "        offsets[1] += self.center[1]\n",
    "        self.offsets = offsets.copy()\n",
    "        self.minx = min(offsets[0])\n",
    "        self.maxx = max(offsets[0])\n",
    "        self.miny = min(offsets[1])\n",
    "        self.maxy = max(offsets[1])\n",
    "        \n",
    "    def check(self, xy):\n",
    "        if self._pseudo_check(xy):\n",
    "            return self._detail_check(xy)\n",
    "        return False\n",
    "        \n",
    "    def _pseudo_check(self, xy):\n",
    "        x, y = xy\n",
    "        if (self.minx <= x) and (x <= self.maxx):\n",
    "            return (self.miny <= y) and (y <= self.maxy)\n",
    "        return False\n",
    "    \n",
    "    def _detail_check(self, xy):\n",
    "        local_xy = xy - self.center\n",
    "        local_xy = np.matmul(self.inv_R, local_xy)\n",
    "        x, y = local_xy\n",
    "        return (abs(x) <= self.offset_w) and (abs(y) <= self.offset_l)\n",
    "        \n",
    "class FeasibilityMap:\n",
    "    def __init__(self, manipulability_raw, robot_radius):\n",
    "        self.robot_radius = robot_radius\n",
    "        manip_layers = raw_to_layers(manipulability_raw)\n",
    "        feasi_layers = self.manipulability_to_feasibility(manip_layers)\n",
    "        self.feasi_raw = layers_to_raw(feasi_layers)\n",
    "        \n",
    "        self.two_plot([(manip_layers, False), (self.feasi_raw, True)])\n",
    "        self.two_plot([(manip_layers, False), (self.feasi_raw, True)], dim='3d')\n",
    "        \n",
    "        \"\"\"\n",
    "        free_raw\n",
    "        [Ct Cr x y m]\n",
    "        \"\"\"\n",
    "        self.free_raw = None\n",
    "        \n",
    "        print(manip_layers[0].shape)\n",
    "        print(feasi_layers[0].shape)\n",
    "        print(self.feasi_raw.shape)\n",
    "    \n",
    "    @staticmethod\n",
    "    def manipulability_to_feasibility(manipulability_layers):\n",
    "        \"\"\"\n",
    "        manipulability_layers & feasibility_layers\n",
    "            key: degree\n",
    "            value: [(x, y, manip), ...]\n",
    "\n",
    "        [rot]      | [Cr0]\n",
    "        c0 -s0  0  | x1 x2 x3 x4 x5 ... x100\n",
    "        s0  c0  0  | y1 y2 y3 y4 y5 ... y100\n",
    "         0   0  1  | u1 u2 u3 u4 u5 ... u100\n",
    "        \"\"\"\n",
    "        feasibility_layers = {}\n",
    "        for Cr, mlayer in manipulability_layers.items():\n",
    "            R = rotation_z(np.radians(180 - Cr))\n",
    "            flayer = np.dot(R, mlayer)\n",
    "            feasibility_layers[Cr] = flayer\n",
    "        return feasibility_layers\n",
    "    \n",
    "    @staticmethod\n",
    "    def two_plot(draws, dim='2d'):\n",
    "        \"\"\"\n",
    "        draws: [(data, is_feasibility), (data, is_feasibility)]\n",
    "        dim: 2d or 3d\n",
    "        \"\"\"\n",
    "        xyMinMax = [-20, 20, -20, 20]\n",
    "        idx = 0\n",
    "        if dim == '2d':\n",
    "            fig, axs = plt.subplots(nrows=1, ncols=2)\n",
    "            for data, isF in draws:\n",
    "                scatter_2d(axs[idx], data, xyMinMax, is_feasibility=isF)\n",
    "                idx += 1\n",
    "            fig.tight_layout()\n",
    "        else:\n",
    "            fig = plt.figure()\n",
    "            axs = [fig.add_subplot(121, projection='3d'), fig.add_subplot(122, projection='3d')]\n",
    "            for data, isF in draws:\n",
    "                scatter_3d(axs[idx], data, xyMinMax, is_feasibility=isF)\n",
    "                idx += 1\n",
    "        plt.show()\n",
    "        return plt\n",
    "    \n",
    "    def calc(self, Pt, Obs, Cr, Ct):\n",
    "        ###################################\n",
    "        print(\"Cut the range of `Cr` from `Fraw` and set it to `Fcut`.\")\n",
    "        minCr, maxCr = Cr\n",
    "        print(\"min Cr: \", minCr)\n",
    "        print(\"max Cr: \", maxCr)\n",
    "        filter_arr = (self.feasi_raw[:,0] >= minCr) * (self.feasi_raw[:,0] <= maxCr)\n",
    "        Fcut = self.feasi_raw[filter_arr].copy()\n",
    "        \n",
    "        # PLOT\n",
    "        self.two_plot([(self.feasi_raw, True), (Fcut, True)])\n",
    "\n",
    "        ###################################\n",
    "        print(\"And extract only the maximum as a `Fmax`.\")\n",
    "        interval = 1  # cm\n",
    "        sections = np.array(range(5, 20, interval))\n",
    "        sq_sections = np.square(sections)\n",
    "        print(\"sq_sections.shape: \", sq_sections.shape)\n",
    "        \n",
    "        num_sections = len(sq_sections) - 1\n",
    "        Fmax = np.zeros((num_sections, 4), dtype=np.float32)        \n",
    "        \n",
    "        def find_idx(ascending, value):\n",
    "            # Check range\n",
    "            if ascending[0] > value or ascending[-1] < value:\n",
    "                return None\n",
    "            # Binary search\n",
    "            Li = 0\n",
    "            Ri = len(ascending) - 1\n",
    "            while (Li + 1) < Ri:\n",
    "                mid = int((Li + Ri) / 2)\n",
    "                if value < ascending[mid]:\n",
    "                    Ri = mid\n",
    "                else:\n",
    "                    Li = mid\n",
    "            return Li\n",
    "        \n",
    "        for point in Fcut:\n",
    "            x, y = point[1:3]\n",
    "            sq_radius = x*x + y*y           \n",
    "            idx = find_idx(sq_sections, sq_radius)\n",
    "            if idx is not None:\n",
    "                prev_manip = Fmax[idx, 3]\n",
    "                new_manip = point[3]\n",
    "                if prev_manip < new_manip:\n",
    "                    Fmax[idx] = point.copy()\n",
    "        print(\"Fmax.shape: \", Fmax.shape)\n",
    "    \n",
    "        # PLOT\n",
    "        print(\"When Ct == 0.0 deg\")\n",
    "        fig, (ax1, ax2) = plt.subplots(nrows=1, ncols=2)\n",
    "        scatter_2d(ax1, Fcut, [-20, 20, -20, 20])\n",
    "        scatter_2d(ax2, Fmax, [-20, 20, -20, 20])\n",
    "        for r in sections:\n",
    "            ax1.add_artist(plt.Circle((0,0), radius=r, color='gray', alpha=0.4, fill=False))\n",
    "            ax2.add_artist(plt.Circle((0,0), radius=r, color='gray', alpha=0.4, fill=False))\n",
    "        fig.tight_layout()\n",
    "        plt.show()\n",
    "        \n",
    "        ###################################\n",
    "        print(\"Wipe the `Fmax` in the range of `Ct`. => `Fwiped`\")\n",
    "        minCt, maxCt = Ct\n",
    "        print(\"min Ct: \", minCt)\n",
    "        print(\"max Ct: \", maxCt)\n",
    "        \n",
    "        \"\"\"\n",
    "        Fwiped\n",
    "        [Ct Cr x y m]\n",
    "        \"\"\"\n",
    "        circle_points = []\n",
    "        interval = 1  # cm\n",
    "        for point in Fmax:\n",
    "            Cr, x, y, m = point\n",
    "            radius = np.sqrt(x*x + y*y)\n",
    "            d_rad = interval / radius\n",
    "            \n",
    "            two_pi = 2.0 * np.pi\n",
    "            num_points = int(two_pi / d_rad)\n",
    "            half = int(num_points / 2)\n",
    "            \n",
    "            # Mapping to -180 ~ 180\n",
    "            for idx in range(-half, num_points-half):\n",
    "                rad = d_rad * idx\n",
    "                Ct = np.degrees(rad)\n",
    "                \n",
    "                c, s = np.cos(rad), np.sin(rad)\n",
    "                nx = c*x - s*y\n",
    "                ny = s*x + c*y\n",
    "                circle_points.append([Ct, Cr, nx, ny, m])\n",
    "        Fwiped = np.array(circle_points)\n",
    "        print(Fwiped.shape)\n",
    "        print(Fwiped[:5])\n",
    "        \n",
    "        # PLOT\n",
    "        wiped_plot = Fwiped[:,1:]\n",
    "        fig, (ax1, ax2) = plt.subplots(nrows=1, ncols=2)\n",
    "        scatter_2d(ax1, Fmax, [-20, 20, -20, 20])\n",
    "        scatter_2d(ax2, wiped_plot, [-20, 20, -20, 20])\n",
    "        for p in Fmax:\n",
    "            cr, x, y, m = p\n",
    "            r = np.sqrt(x*x + y*y)\n",
    "            ax1.add_artist(plt.Circle((0,0), radius=r, color=manip_color(m), fill=False))\n",
    "            ax1.add_artist(plt.Circle((x,y), radius=0.2, color=\"red\", fill=False))\n",
    "            ax2.add_artist(plt.Circle((x,y), radius=0.2, color=\"red\", fill=False))\n",
    "        fig.tight_layout()\n",
    "        plt.show()\n",
    "        \n",
    "        ###################################\n",
    "        print(\"Remove all obstacle areas from `Fwiped` with the offset of `Rsize`. => `Fclean`\")\n",
    "        \"\"\"\n",
    "        Fwiped\n",
    "        [Ct Cr x y m]\n",
    "        \"\"\"\n",
    "        # Pt, Obs\n",
    "        target_center = np.array(Pt)\n",
    "        Fclean = Fwiped.copy()\n",
    "        print(\"Fclean.shape: \", Fclean.shape)\n",
    "        for collision in Obs:\n",
    "            collision.set_offset(self.robot_radius)\n",
    "            filter_arr = [not collision.check(p[2:4] + target_center) for p in Fclean]\n",
    "            Fclean = Fclean[filter_arr]\n",
    "            print(\"Fclean.shape: \", Fclean.shape)\n",
    "        \n",
    "        self.free_raw = Fclean.copy()\n",
    "\n",
    "        # PLOT\n",
    "        clean_plot = Fclean[:,1:]\n",
    "        fig, (ax1, ax2) = plt.subplots(nrows=1, ncols=2)\n",
    "        scatter_2d(ax1, wiped_plot, [-20, 20, -20, 20])\n",
    "        scatter_2d(ax2, clean_plot, [-20, 20, -20, 20])\n",
    "        for p in Fmax:\n",
    "            cr, x, y, m = p\n",
    "            ax1.add_artist(plt.Circle((x,y), radius=0.2, color=\"red\", fill=False))\n",
    "            ax2.add_artist(plt.Circle((x,y), radius=0.2, color=\"red\", fill=False))\n",
    "        for collision in Obs:\n",
    "            xs, ys = collision.vertices\n",
    "            xs = np.append(xs, xs[0])\n",
    "            ys = np.append(ys, ys[0])\n",
    "            ax1.plot(xs, ys)\n",
    "            ax2.plot(xs, ys)\n",
    "            xs, ys = collision.offsets\n",
    "            xs = np.append(xs, xs[0])\n",
    "            ys = np.append(ys, ys[0])\n",
    "            ax1.plot(xs, ys)\n",
    "            ax2.plot(xs, ys)\n",
    "        fig.tight_layout()\n",
    "        plt.show()\n",
    "    \n",
    "    def get_candidates(self, num=1):\n",
    "        \"\"\"\n",
    "        self.free_raw (descending order)\n",
    "        [Ct Cr x y m]\n",
    "        \"\"\"\n",
    "        # Sorting in descending order\n",
    "        ms = -np.transpose(self.free_raw)[4]\n",
    "        s = ms.argsort()\n",
    "        Fsort = self.free_raw[s]\n",
    "        \n",
    "        print(\"Fclean[:10]: \",self.free_raw[:10])\n",
    "        print(\"Fclean[:10]: \",Fsort[:10])\n",
    "        \n",
    "        candidates = Fsort[:10].copy()\n",
    "        \n",
    "        # PLOT\n",
    "        clean_plot = self.free_raw[:,1:]\n",
    "        fig, (ax1, ax2) = plt.subplots(nrows=1, ncols=2)\n",
    "        scatter_2d(ax1, clean_plot, [-20, 20, -20, 20])\n",
    "#         scatter_2d(ax2, clean_plot, [-20, 20, -20, 20])\n",
    "        for p in candidates:\n",
    "            ct, cr, x, y, m = p\n",
    "            ax1.add_artist(plt.Circle((x,y), radius=0.2, color=\"red\", fill=False))\n",
    "        fig.tight_layout()\n",
    "        plt.show()\n",
    "        \n",
    "        return candidates"
   ]
  },
  {
   "cell_type": "code",
   "execution_count": 5,
   "metadata": {},
   "outputs": [
    {
     "data": {
      "text/plain": [
       "array([False, False, False,  True,  True, False])"
      ]
     },
     "execution_count": 5,
     "metadata": {},
     "output_type": "execute_result"
    }
   ],
   "source": [
    "a = np.array([1, 2, 3, 4, 5, 6])\n",
    "(a > 3) * (a< 6)"
   ]
  },
  {
   "cell_type": "code",
   "execution_count": 6,
   "metadata": {},
   "outputs": [
    {
     "data": {
      "application/vnd.jupyter.widget-view+json": {
       "model_id": "626bce15ebf24a3ea53454c7c17e0519",
       "version_major": 2,
       "version_minor": 0
      },
      "text/plain": [
       "Canvas(toolbar=Toolbar(toolitems=[('Home', 'Reset original view', 'home', 'home'), ('Back', 'Back to previous …"
      ]
     },
     "metadata": {},
     "output_type": "display_data"
    },
    {
     "data": {
      "application/vnd.jupyter.widget-view+json": {
       "model_id": "506139e0ea7f4bc788d7fd5ef86c36d4",
       "version_major": 2,
       "version_minor": 0
      },
      "text/plain": [
       "Canvas(toolbar=Toolbar(toolitems=[('Home', 'Reset original view', 'home', 'home'), ('Back', 'Back to previous …"
      ]
     },
     "metadata": {},
     "output_type": "display_data"
    },
    {
     "name": "stdout",
     "output_type": "stream",
     "text": [
      "(3, 225)\n",
      "(3, 225)\n",
      "(1575, 4)\n"
     ]
    }
   ],
   "source": [
    "F = FeasibilityMap(M, Rsize)"
   ]
  },
  {
   "cell_type": "markdown",
   "metadata": {},
   "source": [
    "## 2. Online"
   ]
  },
  {
   "cell_type": "markdown",
   "metadata": {},
   "source": [
    "### 2.1. Input\n",
    "\n",
    "Known\n",
    "1. `self.feasi_layers`: feasibility map\n",
    "2. `self.robot_radius`: robot base (circle radius)\n",
    "\n",
    "---\n",
    "Input\n",
    "\n",
    "1. `Pt`: Position of the target object (relative to the robot’s current pose) => `(x, y)`\n",
    "2. `Obs`: Area list of ground obstacles => `[CollisionModel, ...]`\n",
    "3. `Cr`: Constraints on the approach angle (relative to the robot heading) (-90 ~ 90) => `(min, max)`\n",
    "4. `Ct`: Constraints on the approach angle (relative to the target heading) (-180 ~ 180) => `(min, max)`"
   ]
  },
  {
   "cell_type": "code",
   "execution_count": 7,
   "metadata": {},
   "outputs": [],
   "source": [
    "Pt = (0.0, 0.0)\n",
    "Obs = [CollisionBox(30.0, 15.0, (5.0, 5.0), np.radians(-20.0))]\n",
    "Cr = (30, 30)  # min, max\n",
    "Ct = (-180, 180) # min, max"
   ]
  },
  {
   "cell_type": "markdown",
   "metadata": {},
   "source": [
    "### 2.2. Process\n",
    "\n",
    "1. Cut the range of `Cr` from `F` and set it to `Fcut`.\n",
    "2. ~~[SKIP] Scan the maximum points for the radius and angle by each circle in `Fcut`.~~\n",
    "3. And extract only the maximum as a `Fmax`.\n",
    "4. Wipe the `Fmax` in the range of `Ct`.\n",
    "5. Remove all obstacle areas from `Fwiped` with the offset of `Rsize`."
   ]
  },
  {
   "cell_type": "code",
   "execution_count": 8,
   "metadata": {},
   "outputs": [
    {
     "name": "stdout",
     "output_type": "stream",
     "text": [
      "Cut the range of `Cr` from `Fraw` and set it to `Fcut`.\n",
      "min Cr:  30\n",
      "max Cr:  30\n"
     ]
    },
    {
     "data": {
      "application/vnd.jupyter.widget-view+json": {
       "model_id": "45490fe76b2c41f48a93657f5648c88b",
       "version_major": 2,
       "version_minor": 0
      },
      "text/plain": [
       "Canvas(toolbar=Toolbar(toolitems=[('Home', 'Reset original view', 'home', 'home'), ('Back', 'Back to previous …"
      ]
     },
     "metadata": {},
     "output_type": "display_data"
    },
    {
     "name": "stdout",
     "output_type": "stream",
     "text": [
      "And extract only the maximum as a `Fmax`.\n",
      "sq_sections.shape:  (15,)\n",
      "Fmax.shape:  (14, 4)\n",
      "When Ct == 0.0 deg\n"
     ]
    },
    {
     "data": {
      "application/vnd.jupyter.widget-view+json": {
       "model_id": "129f2b0757ea4b968a4aeb03702042ae",
       "version_major": 2,
       "version_minor": 0
      },
      "text/plain": [
       "Canvas(toolbar=Toolbar(toolitems=[('Home', 'Reset original view', 'home', 'home'), ('Back', 'Back to previous …"
      ]
     },
     "metadata": {},
     "output_type": "display_data"
    },
    {
     "name": "stdout",
     "output_type": "stream",
     "text": [
      "Wipe the `Fmax` in the range of `Ct`. => `Fwiped`\n",
      "min Ct:  -180\n",
      "max Ct:  180\n",
      "(1029, 5)\n",
      "[[-172.1854839    30.            5.2142901     2.1934404     0.86988288]\n",
      " [-162.05692602   30.            4.74729603    3.07622861    0.86988288]\n",
      " [-151.92836815   30.            4.13233492    3.86313477    0.86988288]\n",
      " [-141.79981027   30.            3.38857429    4.52963203    0.86988288]\n",
      " [-131.67125239   30.            2.53919621    5.05494656    0.86988288]]\n"
     ]
    },
    {
     "data": {
      "application/vnd.jupyter.widget-view+json": {
       "model_id": "92cc1304bf364ebf998acb808b5351c9",
       "version_major": 2,
       "version_minor": 0
      },
      "text/plain": [
       "Canvas(toolbar=Toolbar(toolitems=[('Home', 'Reset original view', 'home', 'home'), ('Back', 'Back to previous …"
      ]
     },
     "metadata": {},
     "output_type": "display_data"
    },
    {
     "name": "stdout",
     "output_type": "stream",
     "text": [
      "Remove all obstacle areas from `Fwiped` with the offset of `Rsize`. => `Fclean`\n",
      "Fclean.shape:  (1029, 5)\n",
      "Fclean.shape:  (348, 5)\n"
     ]
    },
    {
     "data": {
      "application/vnd.jupyter.widget-view+json": {
       "model_id": "5c3a1a1a1f9445ada167e126c149d4e1",
       "version_major": 2,
       "version_minor": 0
      },
      "text/plain": [
       "Canvas(toolbar=Toolbar(toolitems=[('Home', 'Reset original view', 'home', 'home'), ('Back', 'Back to previous …"
      ]
     },
     "metadata": {},
     "output_type": "display_data"
    }
   ],
   "source": [
    "F.calc(Pt, Obs, Cr, Ct)"
   ]
  },
  {
   "cell_type": "markdown",
   "metadata": {},
   "source": [
    "### 2.3. Output\n",
    "\n",
    "1. Candidate poses (sorted in descending order of manipulability)"
   ]
  },
  {
   "cell_type": "code",
   "execution_count": 9,
   "metadata": {},
   "outputs": [
    {
     "name": "stdout",
     "output_type": "stream",
     "text": [
      "Fclean[:10]:  [[44.74048647 30.         -3.81767566 -5.14055982  0.86988288]\n",
      " [53.68858376 30.         -2.97165216 -5.67179744  0.86988288]\n",
      " [62.63668106 30.         -2.05329654 -6.06497948  0.86988288]\n",
      " [71.58477835 30.         -1.08496222 -6.31053562  0.86988288]\n",
      " [32.4113852  30.         -4.7852017  -5.20594349  0.95477819]\n",
      " [40.51423151 30.         -4.0036495  -5.82844693  0.95477819]\n",
      " [48.61707781 30.         -3.14215769 -6.3345756   0.95477819]\n",
      " [56.71992411 30.         -2.21792741 -6.71422378  0.95477819]\n",
      " [64.82277041 30.         -1.24941246 -6.95981117  0.95477819]\n",
      " [72.92561671 30.         -0.25595088 -7.06643418  0.95477819]]\n",
      "Fclean[:10]:  [[ 1.87678554e+01  3.00000000e+01 -1.43092758e+01 -5.31456762e+00\n",
      "   1.00000000e+00]\n",
      " [ 6.85323890e+01  3.00000000e+01 -2.99820501e+00 -1.38928315e+01\n",
      "   1.00000000e+00]\n",
      " [ 7.25637060e+01  3.00000000e+01 -2.01409687e+00 -1.40692364e+01\n",
      "   1.00000000e+00]\n",
      " [ 7.65950230e+01  3.00000000e+01 -1.02002206e+00 -1.41760204e+01\n",
      "   1.00000000e+00]\n",
      " [ 8.06263400e+01  3.00000000e+01 -2.08997248e-02 -1.42126550e+01\n",
      "   1.00000000e+00]\n",
      " [ 8.46576570e+01  3.00000000e+01  9.78326032e-01 -1.41789590e+01\n",
      "   1.00000000e+00]\n",
      " [ 8.86889740e+01  3.00000000e+01  1.97271059e+00 -1.40750990e+01\n",
      "   1.00000000e+00]\n",
      " [ 9.27202910e+01  3.00000000e+01  2.95733328e+00 -1.39015891e+01\n",
      "   1.00000000e+00]\n",
      " [ 9.67516080e+01  3.00000000e+01  3.92732174e+00 -1.36592878e+01\n",
      "   1.00000000e+00]\n",
      " [ 1.00782925e+02  3.00000000e+01  4.87787604e+00 -1.33493942e+01\n",
      "   1.00000000e+00]]\n"
     ]
    },
    {
     "data": {
      "application/vnd.jupyter.widget-view+json": {
       "model_id": "277e3fe708b948e7bd51da924f82d7f0",
       "version_major": 2,
       "version_minor": 0
      },
      "text/plain": [
       "Canvas(toolbar=Toolbar(toolitems=[('Home', 'Reset original view', 'home', 'home'), ('Back', 'Back to previous …"
      ]
     },
     "metadata": {},
     "output_type": "display_data"
    }
   ],
   "source": [
    "candidates = F.get_candidates()"
   ]
  },
  {
   "cell_type": "code",
   "execution_count": null,
   "metadata": {},
   "outputs": [],
   "source": []
  }
 ],
 "metadata": {
  "kernelspec": {
   "display_name": "Python 2",
   "language": "python",
   "name": "python2"
  },
  "language_info": {
   "codemirror_mode": {
    "name": "ipython",
    "version": 3
   },
   "file_extension": ".py",
   "mimetype": "text/x-python",
   "name": "python",
   "nbconvert_exporter": "python",
   "pygments_lexer": "ipython3",
   "version": "3.6.9"
  }
 },
 "nbformat": 4,
 "nbformat_minor": 4
}
