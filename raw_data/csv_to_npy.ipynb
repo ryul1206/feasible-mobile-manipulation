{
 "cells": [
  {
   "cell_type": "markdown",
   "metadata": {},
   "source": [
    "# CSV to NPY\n",
    "\n",
    "> In this file, Cr is radians.\n",
    "\n",
    "### CSV to NPY\n",
    "\n",
    "1. **X** (idx: 1)\n",
    "2. **Y** (idx: 2)\n",
    "3. Z\n",
    "4. **angle** = Cr (idx: 0)\n",
    "5. Joint 1\n",
    "6. Joint 2\n",
    "7. Joint 3\n",
    "8. Joint 4\n",
    "9. Joint 5\n",
    "10. Joint 6\n",
    "11. Joint 7\n",
    "12. **manipulability** (idx: 3)"
   ]
  },
  {
   "cell_type": "code",
   "execution_count": 1,
   "metadata": {},
   "outputs": [
    {
     "name": "stdout",
     "output_type": "stream",
     "text": [
      "[[ 0.          0.1        -0.44        0.0151625 ]\n",
      " [ 0.174533    0.1        -0.44        0.0151625 ]\n",
      " [ 0.349066    0.1        -0.44        0.0151625 ]\n",
      " ...\n",
      " [ 1.0472      0.28       -0.08        0.00897977]\n",
      " [ 1.22173     0.28       -0.08        0.00897977]\n",
      " [ 1.39626     0.28       -0.08        0.00897977]]\n"
     ]
    }
   ],
   "source": [
    "import csv\n",
    "import numpy as np\n",
    "\n",
    "raw = []\n",
    "with open('manipulability.csv', 'r', encoding='utf-8') as csvfile:\n",
    "    reader = csv.reader(csvfile, delimiter=',')\n",
    "    for row in reader:\n",
    "        x = float(row[0])\n",
    "        y = float(row[1])\n",
    "        Cr = float(row[3])  # radian\n",
    "        m = float(row[11])\n",
    "        raw.append([Cr, x, y, m])\n",
    "npraw = np.array(raw)\n",
    "print(npraw)\n",
    "np.save('real_manip', npraw)"
   ]
  },
  {
   "cell_type": "markdown",
   "metadata": {},
   "source": [
    "### Load NPY"
   ]
  },
  {
   "cell_type": "code",
   "execution_count": 2,
   "metadata": {},
   "outputs": [
    {
     "name": "stdout",
     "output_type": "stream",
     "text": [
      "(893, 4)\n",
      "[[ 0.          0.1        -0.44        0.0151625 ]\n",
      " [ 0.174533    0.1        -0.44        0.0151625 ]\n",
      " [ 0.349066    0.1        -0.44        0.0151625 ]\n",
      " ...\n",
      " [ 1.0472      0.28       -0.08        0.00897977]\n",
      " [ 1.22173     0.28       -0.08        0.00897977]\n",
      " [ 1.39626     0.28       -0.08        0.00897977]]\n"
     ]
    }
   ],
   "source": [
    "M = np.load('real_manip.npy')\n",
    "print(M.shape)\n",
    "print(M)"
   ]
  }
 ],
 "metadata": {
  "kernelspec": {
   "display_name": "Python 2",
   "language": "python",
   "name": "python2"
  },
  "language_info": {
   "codemirror_mode": {
    "name": "ipython",
    "version": 3
   },
   "file_extension": ".py",
   "mimetype": "text/x-python",
   "name": "python",
   "nbconvert_exporter": "python",
   "pygments_lexer": "ipython3",
   "version": "3.6.9"
  }
 },
 "nbformat": 4,
 "nbformat_minor": 4
}
