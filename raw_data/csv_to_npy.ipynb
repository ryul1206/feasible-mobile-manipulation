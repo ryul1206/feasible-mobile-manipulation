{
 "cells": [
  {
   "cell_type": "markdown",
   "metadata": {},
   "source": [
    "# CSV to NPY\n",
    "\n",
    "CSV에는 yaw, pitch, roll 순으로 적었는데\n",
    "\n",
    "NPY로 변환하면서 roll, pitch, yaw로 저장."
   ]
  },
  {
   "cell_type": "code",
   "execution_count": 1,
   "metadata": {},
   "outputs": [
    {
     "name": "stdout",
     "output_type": "stream",
     "text": [
      "[[ 4.00000000e-01 -2.00000000e-01  7.50000000e-01 ...  1.35919661e+00\n",
      "  -2.29378927e+00  9.99775621e-01]\n",
      " [ 4.00000000e-01 -2.00000000e-01  7.50000000e-01 ...  1.42871093e+00\n",
      "  -1.36285730e+00  7.05210566e-01]\n",
      " [ 4.00000000e-01 -2.00000000e-01  7.50000000e-01 ...  1.50431862e+00\n",
      "  -2.59408362e+00  2.50848689e-01]\n",
      " ...\n",
      " [ 5.00000000e-01  1.38777878e-17  8.00000000e-01 ... -4.48344564e-01\n",
      "  -4.91123041e-01 -6.25855158e-01]\n",
      " [ 5.00000000e-01  1.38777878e-17  8.00000000e-01 ...  7.50873116e-01\n",
      "   2.47875642e+00  9.40711914e-02]\n",
      " [ 1.00000000e-01  1.50000000e-01  9.00000000e-01 ...  1.35878643e+00\n",
      "   2.02644354e+00 -3.22959644e-01]]\n",
      "(25713, 18)\n"
     ]
    }
   ],
   "source": [
    "import csv\n",
    "import numpy as np\n",
    "\n",
    "# raw_file = \"robocare_right_reachability_map.csv\"\n",
    "raw_file = \"socialrobot_RM_2021-10-14_09-50-24_wip.csv\"\n",
    "first_row_is_title = True\n",
    "is_rpy_order = False\n",
    "\n",
    "raw = []\n",
    "with open(raw_file, 'r', encoding='utf-8') as csvfile:\n",
    "    reader = csv.reader(csvfile, delimiter=',')\n",
    "    raw = [row for row in reader]\n",
    "    if first_row_is_title:\n",
    "        raw = raw[1:]\n",
    "\n",
    "npraw = np.array(raw, dtype=np.float)\n",
    "if not is_rpy_order:\n",
    "    npraw[:,[6, 7, 8]] = npraw[:,[8, 7, 6]]\n",
    "\n",
    "print(npraw)\n",
    "print(npraw.shape)"
   ]
  },
  {
   "cell_type": "markdown",
   "metadata": {},
   "source": [
    "## Save NPY"
   ]
  },
  {
   "cell_type": "code",
   "execution_count": 2,
   "metadata": {},
   "outputs": [],
   "source": [
    "npy_name = raw_file.replace(\".csv\", \".npy\")\n",
    "np.save(npy_name, npraw)"
   ]
  },
  {
   "cell_type": "markdown",
   "metadata": {},
   "source": [
    "## Load NPY"
   ]
  },
  {
   "cell_type": "code",
   "execution_count": 3,
   "metadata": {},
   "outputs": [
    {
     "name": "stdout",
     "output_type": "stream",
     "text": [
      "(25713, 18)\n",
      "[[ 4.00000000e-01 -2.00000000e-01  7.50000000e-01 ...  1.35919661e+00\n",
      "  -2.29378927e+00  9.99775621e-01]\n",
      " [ 4.00000000e-01 -2.00000000e-01  7.50000000e-01 ...  1.42871093e+00\n",
      "  -1.36285730e+00  7.05210566e-01]\n",
      " [ 4.00000000e-01 -2.00000000e-01  7.50000000e-01 ...  1.50431862e+00\n",
      "  -2.59408362e+00  2.50848689e-01]\n",
      " ...\n",
      " [ 5.00000000e-01  1.38777878e-17  8.00000000e-01 ... -4.48344564e-01\n",
      "  -4.91123041e-01 -6.25855158e-01]\n",
      " [ 5.00000000e-01  1.38777878e-17  8.00000000e-01 ...  7.50873116e-01\n",
      "   2.47875642e+00  9.40711914e-02]\n",
      " [ 1.00000000e-01  1.50000000e-01  9.00000000e-01 ...  1.35878643e+00\n",
      "   2.02644354e+00 -3.22959644e-01]]\n"
     ]
    }
   ],
   "source": [
    "M = np.load(npy_name)\n",
    "print(M.shape)\n",
    "print(M)"
   ]
  },
  {
   "cell_type": "code",
   "execution_count": null,
   "metadata": {},
   "outputs": [],
   "source": []
  }
 ],
 "metadata": {
  "interpreter": {
   "hash": "767d51c1340bd893661ea55ea3124f6de3c7a262a8b4abca0554b478b1e2ff90"
  },
  "kernelspec": {
   "display_name": "Python 3",
   "language": "python",
   "name": "python3"
  },
  "language_info": {
   "codemirror_mode": {
    "name": "ipython",
    "version": 3
   },
   "file_extension": ".py",
   "mimetype": "text/x-python",
   "name": "python",
   "nbconvert_exporter": "python",
   "pygments_lexer": "ipython3",
   "version": "3.6.9"
  }
 },
 "nbformat": 4,
 "nbformat_minor": 4
}
