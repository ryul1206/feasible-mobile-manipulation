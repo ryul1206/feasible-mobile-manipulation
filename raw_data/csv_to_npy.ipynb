{
 "cells": [
  {
   "cell_type": "markdown",
   "metadata": {},
   "source": [
    "# CSV to NPY\n",
    "\n",
    "CSV에는 yaw, pitch, roll 순으로 적었는데\n",
    "\n",
    "NPY로 변환하면서 roll, pitch, yaw로 저장."
   ]
  },
  {
   "cell_type": "code",
   "execution_count": 1,
   "metadata": {},
   "outputs": [
    {
     "name": "stdout",
     "output_type": "stream",
     "text": [
      "[[ 0.309      -0.3         0.75       ...  1.00480959 -2.66947978\n",
      "   0.82793565]\n",
      " [ 0.309      -0.3         0.75       ...  0.91147226 -2.7009978\n",
      "   0.55221529]\n",
      " [ 0.309      -0.3         0.75       ...  0.81484494 -2.73895461\n",
      "   0.25775606]\n",
      " ...\n",
      " [ 0.159       0.1         0.7        ...  1.11930001  2.82743335\n",
      "  -0.17787866]\n",
      " [ 0.159       0.1         0.75       ...  1.22532124  2.6205158\n",
      "  -0.27816002]\n",
      " [ 0.159       0.15        0.8        ...  1.42418964  2.52012835\n",
      "  -0.2498869 ]]\n",
      "(7899, 18)\n"
     ]
    }
   ],
   "source": [
    "import csv\n",
    "import numpy as np\n",
    "\n",
    "raw_file = \"robocare_right_reachability_map.csv\"\n",
    "first_row_is_title = True\n",
    "is_rpy_order = False\n",
    "\n",
    "raw = []\n",
    "with open(raw_file, 'r', encoding='utf-8') as csvfile:\n",
    "    reader = csv.reader(csvfile, delimiter=',')\n",
    "    raw = [row for row in reader]\n",
    "    if first_row_is_title:\n",
    "        raw = raw[1:]\n",
    "\n",
    "npraw = np.array(raw, dtype=np.float)\n",
    "if not is_rpy_order:\n",
    "    npraw[:,[6, 7, 8]] = npraw[:,[8, 7, 6]]\n",
    "\n",
    "print(npraw)\n",
    "print(npraw.shape)"
   ]
  },
  {
   "cell_type": "markdown",
   "metadata": {},
   "source": [
    "## Save NPY"
   ]
  },
  {
   "cell_type": "code",
   "execution_count": 2,
   "metadata": {},
   "outputs": [],
   "source": [
    "npy_name = raw_file.replace(\".csv\", \".npy\")\n",
    "np.save(npy_name, npraw)"
   ]
  },
  {
   "cell_type": "markdown",
   "metadata": {},
   "source": [
    "## Load NPY"
   ]
  },
  {
   "cell_type": "code",
   "execution_count": 3,
   "metadata": {},
   "outputs": [
    {
     "name": "stdout",
     "output_type": "stream",
     "text": [
      "(7899, 18)\n",
      "[[ 0.309      -0.3         0.75       ...  1.00480959 -2.66947978\n",
      "   0.82793565]\n",
      " [ 0.309      -0.3         0.75       ...  0.91147226 -2.7009978\n",
      "   0.55221529]\n",
      " [ 0.309      -0.3         0.75       ...  0.81484494 -2.73895461\n",
      "   0.25775606]\n",
      " ...\n",
      " [ 0.159       0.1         0.7        ...  1.11930001  2.82743335\n",
      "  -0.17787866]\n",
      " [ 0.159       0.1         0.75       ...  1.22532124  2.6205158\n",
      "  -0.27816002]\n",
      " [ 0.159       0.15        0.8        ...  1.42418964  2.52012835\n",
      "  -0.2498869 ]]\n"
     ]
    }
   ],
   "source": [
    "M = np.load(npy_name)\n",
    "print(M.shape)\n",
    "print(M)"
   ]
  },
  {
   "cell_type": "code",
   "execution_count": null,
   "metadata": {},
   "outputs": [],
   "source": []
  }
 ],
 "metadata": {
  "kernelspec": {
   "display_name": "Python 2",
   "language": "python",
   "name": "python2"
  },
  "language_info": {
   "codemirror_mode": {
    "name": "ipython",
    "version": 3
   },
   "file_extension": ".py",
   "mimetype": "text/x-python",
   "name": "python",
   "nbconvert_exporter": "python",
   "pygments_lexer": "ipython3",
   "version": "3.6.9"
  }
 },
 "nbformat": 4,
 "nbformat_minor": 4
}
