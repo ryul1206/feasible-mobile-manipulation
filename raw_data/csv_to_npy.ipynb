{
 "cells": [
  {
   "cell_type": "markdown",
   "metadata": {},
   "source": [
    "# CSV to NPY\n",
    "\n",
    "### Config\n",
    "\n",
    "column index from raw file"
   ]
  },
  {
   "cell_type": "code",
   "execution_count": 1,
   "metadata": {},
   "outputs": [],
   "source": [
    "import numpy as np\n",
    "\n",
    "RAD = 1.0\n",
    "DEG = np.pi / 180.\n",
    "\n",
    "raw_file = \"socialrobot_manip_2021-01-25_22-26-56.csv\"\n",
    "first_row_is_title = True\n",
    "\n",
    "col_idx = {\n",
    "    \"tcp_X\": 0,\n",
    "    \"tcp_Y\": 1,\n",
    "    \"tcp_Z\": 2,\n",
    "    \"Cr\": 6,\n",
    "    \"pitch\": 7,\n",
    "    \"roll\": 8,\n",
    "    \"manip\": 9\n",
    "}\n",
    "to_rad = {\n",
    "    \"Cr\": DEG,\n",
    "    \"pitch\": DEG,\n",
    "    \"roll\": DEG,\n",
    "}"
   ]
  },
  {
   "cell_type": "markdown",
   "metadata": {},
   "source": [
    "### CSV to NPY\n",
    "\n",
    "npy index:\n",
    "\n",
    "- [0] [rad] yaw(Cr) -> gripper orientation (정수여야 filter칠 수 있음)\n",
    "- [1] [rad] pitch -> gripper orientation\n",
    "- [2] [rad] roll -> gripper orientation\n",
    "- [3] tcp x --(transformed)-> mobile base x\n",
    "- [4] tcp y --(transformed)-> mobile base y\n",
    "- [5] tcp z -> target object z\n",
    "- [6] manipulability"
   ]
  },
  {
   "cell_type": "code",
   "execution_count": 2,
   "metadata": {},
   "outputs": [
    {
     "name": "stdout",
     "output_type": "stream",
     "text": [
      "[[-1.04719755  0.309      -0.3         0.06915467]\n",
      " [-0.78539816  0.309      -0.3         0.07275049]\n",
      " [-0.52359878  0.309      -0.3         0.07759805]\n",
      " ...\n",
      " [ 1.30899694  0.159       0.05        0.05844657]\n",
      " [ 1.57079633  0.159       0.05        0.06611408]\n",
      " [ 1.57079633  0.159       0.1         0.05978375]]\n"
     ]
    }
   ],
   "source": [
    "import csv\n",
    "\n",
    "raw = []\n",
    "with open(raw_file, 'r', encoding='utf-8') as csvfile:\n",
    "    reader = csv.reader(csvfile, delimiter=',')\n",
    "    for row in reader:\n",
    "        if first_row_is_title:\n",
    "            first_row_is_title = False\n",
    "        else:\n",
    "            tcp_X = float(row[col_idx[\"tcp_X\"]])\n",
    "            tcp_Y = float(row[col_idx[\"tcp_Y\"]])\n",
    "            tcp_Z = float(row[col_idx[\"tcp_Z\"]])\n",
    "            Cr = float(row[col_idx[\"Cr\"]]) * to_rad[\"Cr\"]\n",
    "            pitch = float(row[col_idx[\"pitch\"]]) * to_rad[\"pitch\"]\n",
    "            roll = float(row[col_idx[\"roll\"]]) * to_rad[\"roll\"]\n",
    "            manip = float(row[col_idx[\"manip\"]])\n",
    "            \n",
    "            if tcp_Z == 0.75:\n",
    "                raw.append([Cr, tcp_X, tcp_Y, manip])\n",
    "npraw = np.array(raw)\n",
    "print(npraw)"
   ]
  },
  {
   "cell_type": "code",
   "execution_count": 3,
   "metadata": {},
   "outputs": [],
   "source": [
    "npy_name = raw_file.replace(\".csv\", \".npy\")\n",
    "np.save(npy_name, npraw)"
   ]
  },
  {
   "cell_type": "markdown",
   "metadata": {},
   "source": [
    "### Load NPY"
   ]
  },
  {
   "cell_type": "code",
   "execution_count": 4,
   "metadata": {},
   "outputs": [
    {
     "name": "stdout",
     "output_type": "stream",
     "text": [
      "(2795, 4)\n",
      "[[-1.04719755  0.309      -0.3         0.06915467]\n",
      " [-0.78539816  0.309      -0.3         0.07275049]\n",
      " [-0.52359878  0.309      -0.3         0.07759805]\n",
      " ...\n",
      " [ 1.30899694  0.159       0.05        0.05844657]\n",
      " [ 1.57079633  0.159       0.05        0.06611408]\n",
      " [ 1.57079633  0.159       0.1         0.05978375]]\n"
     ]
    }
   ],
   "source": [
    "M = np.load(npy_name)\n",
    "print(M.shape)\n",
    "print(M)"
   ]
  },
  {
   "cell_type": "code",
   "execution_count": null,
   "metadata": {},
   "outputs": [],
   "source": []
  }
 ],
 "metadata": {
  "kernelspec": {
   "display_name": "Python 2",
   "language": "python",
   "name": "python2"
  },
  "language_info": {
   "codemirror_mode": {
    "name": "ipython",
    "version": 3
   },
   "file_extension": ".py",
   "mimetype": "text/x-python",
   "name": "python",
   "nbconvert_exporter": "python",
   "pygments_lexer": "ipython3",
   "version": "3.6.9"
  }
 },
 "nbformat": 4,
 "nbformat_minor": 4
}
